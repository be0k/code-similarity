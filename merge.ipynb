{
 "cells": [
  {
   "cell_type": "markdown",
   "id": "1eae5465",
   "metadata": {},
   "source": [
    "### import library"
   ]
  },
  {
   "cell_type": "code",
   "execution_count": null,
   "id": "376b5868",
   "metadata": {},
   "outputs": [],
   "source": [
    "import pandas as pd\n",
    "import numpy as np\n",
    "from tqdm.notebook import tqdm\n",
    "import random\n",
    "import re\n",
    "import os\n",
    "import glob\n",
    "\n",
    "from transformers import (AutoTokenizer,\n",
    "                         AutoModelForSequenceClassification,\n",
    "                         AutoConfig,\n",
    "                         get_linear_schedule_with_warmup)\n",
    "from torch.utils.data import Dataset, DataLoader\n",
    "import torch.nn.functional as F\n",
    "import torch\n"
   ]
  },
  {
   "cell_type": "markdown",
   "id": "5f8878c9",
   "metadata": {},
   "source": [
    "### make train dataset "
   ]
  },
  {
   "cell_type": "code",
   "execution_count": null,
   "id": "92adc32a",
   "metadata": {},
   "outputs": [],
   "source": [
    "import os\n",
    "import glob\n",
    "import re\n",
    "\n",
    "def read_cpp_codes_from_folders(root_dir):\n",
    "    \"\"\"\n",
    "    지정된 루트 디렉토리 아래의 모든 폴더에서 .cpp 파일들을 읽어서\n",
    "    {라벨: [파일1의 내용, 파일2의 내용, ...]} 형태의 딕셔너리로 반환합니다.\n",
    "    폴더 이름에서 숫자 부분을 라벨로 사용합니다.\n",
    "    \"\"\"\n",
    "    label_to_code = {}\n",
    "    \n",
    "    # 각 라벨(폴더)를 순회합니다.\n",
    "    for folder in tqdm(os.listdir(root_dir)):\n",
    "        folder_path = os.path.join(root_dir, folder)\n",
    "        if os.path.isdir(folder_path):\n",
    "            # 폴더 이름에서 숫자 부분(라벨)을 추출합니다.\n",
    "            label_match = re.search(r'\\d+', folder)\n",
    "            if label_match:\n",
    "                label = int(label_match.group(0))\n",
    "                cpp_files = glob.glob(os.path.join(folder_path, '*.cpp'))\n",
    "                code_list = []\n",
    "                \n",
    "                # 각 .cpp 파일을 열고 내용을 읽습니다.\n",
    "                for cpp_file in cpp_files:\n",
    "                    with open(cpp_file, 'r', encoding='utf-8') as file:\n",
    "                        content = file.read()\n",
    "                            \n",
    "                        new_content = \"\"\n",
    "                        i = 0\n",
    "                        while i < len(content):\n",
    "                            if content[i:i+2] == '/*':\n",
    "                                i += 2\n",
    "                                while i < len(content) and content[i:i+2] != '*/':\n",
    "                                    i += 1\n",
    "                                i += 2  # 블록 주석의 끝 부분 넘어가기\n",
    "                                continue\n",
    "                            if content[i:i+2] == '//':\n",
    "                                i += 2\n",
    "                                while i < len(content) and content[i] != '\\n':\n",
    "                                    i += 1\n",
    "                                continue\n",
    "                            new_content += content[i]\n",
    "                            i += 1\n",
    "\n",
    "                        # 한 줄 주석 제거 후 남은 라인들을 다시 조합\n",
    "                        new_lines = [line for line in new_content.split('\\n') if line.strip() != '']\n",
    "\n",
    "                        code = ' '.join(new_lines)\n",
    "\n",
    "                        code = re.sub('\\n',' ',code)\n",
    "                        code = re.sub('\\t',' ',code)\n",
    "                        code = re.sub('\\s',' ',code)\n",
    "                        code_list.append(code)\n",
    "                \n",
    "                # 추출한 라벨을 키로 하여 코드 리스트를 저장합니다.\n",
    "                if label not in label_to_code:\n",
    "                    label_to_code[label] = code_list\n",
    "                else:\n",
    "                    label_to_code[label].extend(code_list)\n",
    "            \n",
    "    return label_to_code\n",
    "\n",
    "# 루트 디렉토리 경로를 설정하세요.\n",
    "root_dir = './train_code'\n",
    "cpp_codes = read_cpp_codes_from_folders(root_dir)\n",
    "\n",
    "# 결과를 확인합니다.\n",
    "for label, codes in cpp_codes.items():\n",
    "    print(f\"Label: {label}, Number of CPP files: {len(codes)}\")"
   ]
  },
  {
   "cell_type": "code",
   "execution_count": null,
   "id": "9d70175d",
   "metadata": {},
   "outputs": [],
   "source": [
    "# 정수형으로 키 변환\n",
    "cpp_codes_dict_int_keys = {int(key): value for key, value in cpp_codes.items()}\n",
    "\n",
    "# DataFrame 생성을 위한 데이터 준비\n",
    "data = []\n",
    "for label, codes in cpp_codes_dict_int_keys.items():\n",
    "    for code in codes:\n",
    "        data.append({'label': label, 'code': code})\n",
    "\n",
    "# DataFrame 생성\n",
    "df = pd.DataFrame(data)\n",
    "df = df.sort_values(by=['label'], axis=0)\n",
    "df['label'] = df['label'].apply(lambda x: x -1)\n",
    "df.head()  # DataFrame의 처음 몇 줄을 출력하여 확인"
   ]
  },
  {
   "cell_type": "code",
   "execution_count": null,
   "id": "4a158e5e",
   "metadata": {},
   "outputs": [],
   "source": [
    "df.to_csv('train_data.csv',index=False)"
   ]
  },
  {
   "cell_type": "markdown",
   "id": "2d7d3ea9",
   "metadata": {},
   "source": [
    "### test dataset preprocessing"
   ]
  },
  {
   "cell_type": "code",
   "execution_count": null,
   "id": "e0cc69b4",
   "metadata": {},
   "outputs": [],
   "source": [
    "def del_comment(content):\n",
    "    new_content = \"\"\n",
    "    i = 0\n",
    "    while i < len(content):\n",
    "        if content[i:i+2] == '/*':\n",
    "            i += 2\n",
    "            while i < len(content) and content[i:i+2] != '*/':\n",
    "                i += 1\n",
    "            i += 2  # 블록 주석의 끝 부분 넘어가기\n",
    "            continue\n",
    "        if content[i:i+2] == '//':\n",
    "            i += 2\n",
    "            while i < len(content) and content[i] != '\\n':\n",
    "                i += 1\n",
    "            continue\n",
    "        new_content += content[i]\n",
    "        i += 1\n",
    "\n",
    "    # 한 줄 주석 제거 후 남은 라인들을 다시 조합\n",
    "    new_lines = [line for line in new_content.split('\\n') if line.strip() != '']\n",
    "\n",
    "    code = ' '.join(new_lines)\n",
    "    return code\n",
    "\n",
    "def del_function(text):\n",
    "    return re.sub('\\s', ' ',re.sub('\\t',' ',re.sub('\\n',' ',text)))\n",
    "\n",
    "df = pd.read_csv('./test.csv')\n",
    "\n",
    "df['code1'] = df['code1'].apply(del_comment)\n",
    "df['code2'] = df['code2'].apply(del_comment)\n",
    "df = df.applymap(del_function)\n",
    "\n",
    "df.to_csv('test_data.csv')"
   ]
  },
  {
   "cell_type": "markdown",
   "id": "bde9f4cd",
   "metadata": {},
   "source": [
    "### seed"
   ]
  },
  {
   "cell_type": "code",
   "execution_count": null,
   "id": "ab211b31",
   "metadata": {},
   "outputs": [],
   "source": [
    "def seed_all(seed):\n",
    "    random.seed(seed)\n",
    "    os.environ['PYTHONDASHSEED'] = str(seed)\n",
    "    np.random.seed(seed)\n",
    "    torch.manual_seed(seed)\n",
    "    torch.cuda.manual_seed(seed)\n",
    "seed_all(42)"
   ]
  },
  {
   "cell_type": "markdown",
   "id": "89ec82e2",
   "metadata": {},
   "source": [
    "### custom dataset"
   ]
  },
  {
   "cell_type": "code",
   "execution_count": null,
   "id": "9dc58a72",
   "metadata": {},
   "outputs": [],
   "source": [
    "class NewsDataset(Dataset):\n",
    "    def __init__(self, data, tokenizer, max_len):\n",
    "        self.tokenizer = tokenizer\n",
    "        self.max_len = max_len\n",
    "        self.code = data['code'].to_numpy()\n",
    "        self.problem = data['label'].to_numpy()\n",
    "\n",
    "    def __len__(self):\n",
    "        return len(self.code)\n",
    "\n",
    "    def __getitem__(self, idx):\n",
    "        code1 = self.code[idx]\n",
    "        standard = 500*self.problem[idx]\n",
    "        r = np.random.random()\n",
    "        #similar\n",
    "        if r < 0.5:\n",
    "            tmp = np.random.randint(standard, standard + 500)\n",
    "            code2 = self.code[tmp]\n",
    "            label = 1\n",
    "        #not\n",
    "        else:\n",
    "            tmp = np.random.randint(standard + 500, len(self.code) + standard) % len(self.code)\n",
    "            code2 = self.code[tmp]\n",
    "            label = 0\n",
    "        encoding = self.tokenizer(\n",
    "            code1,\n",
    "            code2,\n",
    "            max_length=self.max_len,\n",
    "            truncation=True,\n",
    "            return_tensors=\"pt\",\n",
    "            padding='max_length'\n",
    "        )\n",
    "\n",
    "        return {'input_ids': encoding['input_ids'][0],\n",
    "                'attention_mask': encoding['attention_mask'][0],\n",
    "                'labels': torch.tensor(label, dtype=torch.long)}\n",
    "\n",
    "    \n",
    "class testDataset(Dataset):\n",
    "    def __init__(self, data, tokenizer, max_len):\n",
    "        self.tokenizer = tokenizer\n",
    "        self.max_len = max_len\n",
    "        self.code1 = data['code1'].to_numpy()\n",
    "        self.code2 = data['code2'].to_numpy()\n",
    "\n",
    "    def __len__(self):\n",
    "        return len(self.code1)\n",
    "\n",
    "    def __getitem__(self, idx):\n",
    "        code1 = self.code1[idx]\n",
    "        code2 = self.code2[idx]\n",
    "        \n",
    "        encoding = self.tokenizer(\n",
    "            code1,\n",
    "            code2,\n",
    "            max_length=self.max_len,\n",
    "            truncation=True,\n",
    "            return_tensors=\"pt\",\n",
    "            padding='max_length'\n",
    "        )\n",
    "        \n",
    "\n",
    "        return {'input_ids': encoding['input_ids'][0],\n",
    "                'attention_mask': encoding['attention_mask'][0]}"
   ]
  },
  {
   "cell_type": "markdown",
   "id": "0d07d5f3",
   "metadata": {},
   "source": [
    "### prepare train"
   ]
  },
  {
   "cell_type": "code",
   "execution_count": null,
   "id": "5f0011cf",
   "metadata": {},
   "outputs": [],
   "source": [
    "model_name = 'Lazyhope/unixcoder-clone-detection'\n",
    "BATCH_SIZE = 3\n",
    "EPOCH = 30\n",
    "\n",
    "train_data = pd.read_csv('./train_data.csv')\n",
    "\n",
    "tokenizer = AutoTokenizer.from_pretrained(model_name)\n",
    "tokenizer.truncation_side = 'left'\n",
    "\n",
    "train_dataset = NewsDataset(train_data, tokenizer, max_len=1024)\n",
    "\n",
    "train_loader = DataLoader(train_dataset,\n",
    "                          batch_size=BATCH_SIZE,\n",
    "                          shuffle=True,\n",
    "                          pin_memory=True,\n",
    "                          num_workers=4)\n",
    "\n",
    "\n",
    "model = AutoModelForSequenceClassification.from_pretrained(model_name)\n",
    "\n",
    "device = torch.device('cuda' if torch.cuda.is_available() else 'cpu')\n",
    "model.to(device)\n",
    "\n",
    "optimizer = torch.optim.AdamW(model.parameters(), lr=1e-5)\n",
    "scheduler = torch.optim.lr_scheduler.StepLR(optimizer,\n",
    "                                            step_size=10,\n",
    "                                            gamma=0.1,\n",
    "                                            last_epoch=-1)"
   ]
  },
  {
   "cell_type": "markdown",
   "id": "09b98b8c",
   "metadata": {},
   "source": [
    "### train unixcoder"
   ]
  },
  {
   "cell_type": "code",
   "execution_count": null,
   "id": "92fa9421",
   "metadata": {},
   "outputs": [],
   "source": [
    "model.zero_grad()\n",
    "model.train()\n",
    "for epoch in tqdm(range(0,EPOCH,1)):\n",
    "    model.train()\n",
    "    train_loss = 0\n",
    "    acc = 0\n",
    "    cnt = 0\n",
    "    print(f'\\nepoch : {epoch+1}')\n",
    "    for i, batch in tqdm(enumerate(train_loader),leave=False,total=len(train_loader)):\n",
    "        input_ids = batch['input_ids'].to(device)\n",
    "        attention_mask = batch['attention_mask'].to(device)\n",
    "        labels = batch['labels'].to(device)\n",
    "        outputs = model(input_ids, attention_mask=attention_mask, labels=labels)\n",
    "        logits = outputs.logits\n",
    "        preds = torch.argmax(logits, axis=1)\n",
    "        acc += torch.sum(labels==preds)\n",
    "        cnt += torch.sum(preds)\n",
    "        loss = outputs.loss\n",
    "        train_loss += loss.item()\n",
    "        loss.backward()\n",
    "        optimizer.step()\n",
    "        model.zero_grad()\n",
    "    model.save_pretrained(f\"unixcoder/{epoch}\", from_pt=True)\n",
    "    scheduler.step()\n",
    "    print(f'train_loss : {train_loss}\\nacc = {acc / len(train_data)}\\ncount = {cnt}')"
   ]
  },
  {
   "cell_type": "markdown",
   "id": "473e26be",
   "metadata": {},
   "source": [
    "### prepare test"
   ]
  },
  {
   "cell_type": "code",
   "execution_count": null,
   "id": "659b71be",
   "metadata": {},
   "outputs": [],
   "source": [
    "test_data = pd.read_csv('./test_data.csv')\n",
    "model_name = 'Lazyhope/unixcoder-clone-detection'\n",
    "\n",
    "tokenizer = AutoTokenizer.from_pretrained(model_name)\n",
    "tokenizer.truncation_side = 'left'\n",
    "\n",
    "test_dataset = testDataset(test_data, tokenizer, max_len=1024)\n",
    "\n",
    "test_loader = DataLoader(test_dataset, batch_size=64, shuffle=False, num_workers=4)\n",
    "\n",
    "device = torch.device('cuda' if torch.cuda.is_available() else 'cpu')"
   ]
  },
  {
   "cell_type": "markdown",
   "id": "5bf93a2e",
   "metadata": {},
   "source": [
    "### evaluate test data"
   ]
  },
  {
   "cell_type": "code",
   "execution_count": null,
   "id": "bbf71fb6",
   "metadata": {},
   "outputs": [],
   "source": [
    "model.to(device)\n",
    "model.eval()\n",
    "with torch.no_grad():\n",
    "    test_preds = []\n",
    "    for i, batch in tqdm(enumerate(test_loader),total=len(test_loader)):\n",
    "        input_ids = batch['input_ids'].to(device)\n",
    "        attention_mask = batch['attention_mask'].to(device)\n",
    "        outputs = model(input_ids, attention_mask=attention_mask)\n",
    "        logits = outputs.logits\n",
    "        test_preds.extend(logits.cpu().numpy())"
   ]
  },
  {
   "cell_type": "markdown",
   "id": "3883387d",
   "metadata": {},
   "source": [
    "### threshold"
   ]
  },
  {
   "cell_type": "code",
   "execution_count": null,
   "id": "2229233d",
   "metadata": {},
   "outputs": [],
   "source": [
    "test = F.softmax(torch.tensor(test_preds), dim=1)\n",
    "test_preds = np.where(test>0.1,1,0)\n",
    "submission = pd.DataFrame({'pair_id': test_data['pair_id'], 'similar': test_preds})\n",
    "submission.to_csv('submission.csv',index=False)"
   ]
  }
 ],
 "metadata": {
  "kernelspec": {
   "display_name": "Python 3 (ipykernel)",
   "language": "python",
   "name": "python3"
  },
  "language_info": {
   "codemirror_mode": {
    "name": "ipython",
    "version": 3
   },
   "file_extension": ".py",
   "mimetype": "text/x-python",
   "name": "python",
   "nbconvert_exporter": "python",
   "pygments_lexer": "ipython3",
   "version": "3.11.5"
  }
 },
 "nbformat": 4,
 "nbformat_minor": 5
}
