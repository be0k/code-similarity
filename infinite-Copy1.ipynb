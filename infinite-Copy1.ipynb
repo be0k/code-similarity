{
 "cells": [
  {
   "cell_type": "code",
   "execution_count": 1,
   "id": "acee7692",
   "metadata": {},
   "outputs": [],
   "source": [
    "import pandas as pd\n",
    "import numpy as np\n",
    "from transformers import AutoTokenizer, AutoModelForSequenceClassification\n",
    "from torch.utils.data import Dataset, DataLoader\n",
    "import torch\n",
    "from tqdm.notebook import tqdm\n",
    "import random\n",
    "import os"
   ]
  },
  {
   "cell_type": "code",
   "execution_count": 2,
   "id": "945921f5",
   "metadata": {},
   "outputs": [],
   "source": [
    "BATCH_SIZE = 11"
   ]
  },
  {
   "cell_type": "code",
   "execution_count": 3,
   "id": "fad81517",
   "metadata": {},
   "outputs": [],
   "source": [
    "def seed_all(seed):\n",
    "    random.seed(seed)\n",
    "    os.environ['PYTHONDASHSEED'] = str(seed)\n",
    "    np.random.seed(seed)\n",
    "    torch.manual_seed(seed)\n",
    "    torch.cuda.manual_seed(seed)\n",
    "seed_all(42)"
   ]
  },
  {
   "cell_type": "code",
   "execution_count": 4,
   "id": "10be0981",
   "metadata": {},
   "outputs": [],
   "source": [
    "class NewsDataset(Dataset):\n",
    "    def __init__(self, data, tokenizer, max_len):\n",
    "        self.tokenizer = tokenizer\n",
    "        self.max_len = max_len\n",
    "        self.code = data['code'].to_numpy()\n",
    "        self.problem = data['label'].to_numpy()\n",
    "\n",
    "    def __len__(self):\n",
    "        return len(self.code)\n",
    "\n",
    "    def __getitem__(self, idx):\n",
    "        code1 = self.code[idx]\n",
    "        standard = 500*self.problem[idx]\n",
    "        r = np.random.random()\n",
    "        #good\n",
    "        if r < 0.5:\n",
    "            tmp = np.random.randint(standard, standard + 500)\n",
    "            code2 = self.code[tmp]\n",
    "            label = 1\n",
    "        #bad\n",
    "        else:\n",
    "            tmp = np.random.randint(standard + 500, len(self.code) + standard) % len(self.code)\n",
    "            code2 = self.code[tmp]\n",
    "            label = 0\n",
    "        encoding = self.tokenizer(\n",
    "            code1,\n",
    "            code2,\n",
    "            add_special_tokens=True,\n",
    "            max_length=self.max_len,\n",
    "            truncation=True,\n",
    "            return_tensors=\"pt\",\n",
    "            padding='max_length'\n",
    "        )\n",
    "\n",
    "        return {'input_ids': encoding['input_ids'][0],\n",
    "                'attention_mask': encoding['attention_mask'][0],\n",
    "                #'token_type_ids' : encoding['token_type_ids'][0],\n",
    "                'labels': torch.tensor(label, dtype=torch.long)}"
   ]
  },
  {
   "cell_type": "code",
   "execution_count": 5,
   "id": "bbcf0346",
   "metadata": {},
   "outputs": [],
   "source": [
    "#model_name = \"neulab/codebert-cpp\"\n",
    "#model_name = 'neulab/codebert-cpp'\n",
    "model_name = 'microsoft/graphcodebert-base'\n",
    "train_data = pd.read_csv('./all_code.csv')\n",
    "\n",
    "tokenizer = AutoTokenizer.from_pretrained(model_name)\n",
    "train_dataset = NewsDataset(train_data, tokenizer, max_len=512)\n",
    "\n",
    "train_loader = DataLoader(train_dataset, batch_size=BATCH_SIZE, shuffle=True, pin_memory=True, num_workers=4)\n",
    "\n",
    "model = AutoModelForSequenceClassification.from_pretrained('model_infinite_gcbc/cpp-12')\n",
    "device = torch.device('cuda' if torch.cuda.is_available() else 'cpu')\n",
    "model.to(device)\n",
    "\n",
    "optimizer = torch.optim.AdamW(model.parameters(), lr=1e-5)"
   ]
  },
  {
   "cell_type": "code",
   "execution_count": null,
   "id": "9ccf8e47",
   "metadata": {
    "scrolled": true
   },
   "outputs": [
    {
     "data": {
      "application/vnd.jupyter.widget-view+json": {
       "model_id": "fe53c5f7b6e04dc7a1f229889eed5801",
       "version_major": 2,
       "version_minor": 0
      },
      "text/plain": [
       "  0%|          | 0/13 [00:00<?, ?it/s]"
      ]
     },
     "metadata": {},
     "output_type": "display_data"
    },
    {
     "name": "stdout",
     "output_type": "stream",
     "text": [
      "\n",
      "epoch : 1\n"
     ]
    },
    {
     "data": {
      "application/vnd.jupyter.widget-view+json": {
       "model_id": "",
       "version_major": 2,
       "version_minor": 0
      },
      "text/plain": [
       "  0%|          | 0/22728 [00:00<?, ?it/s]"
      ]
     },
     "metadata": {},
     "output_type": "display_data"
    },
    {
     "name": "stdout",
     "output_type": "stream",
     "text": [
      "0.864909090909091\n",
      "0.8561818181818182\n",
      "0.872\n",
      "0.8772727272727273\n",
      "0.8681818181818182\n",
      "0.866\n",
      "0.8698181818181818\n",
      "0.8709090909090909\n",
      "0.868\n",
      "0.8710909090909091\n",
      "0.868909090909091\n",
      "0.8716363636363637\n",
      "0.8710909090909091\n",
      "0.8678181818181818\n",
      "0.8661818181818182\n",
      "0.8705454545454545\n",
      "0.8592727272727273\n",
      "0.864\n",
      "0.8690909090909091\n",
      "0.864909090909091\n",
      "0.8650909090909091\n",
      "0.8676363636363637\n",
      "0.8643636363636363\n",
      "0.8710909090909091\n",
      "0.8747272727272727\n",
      "0.8729090909090909\n",
      "0.8625454545454545\n",
      "0.8687272727272727\n",
      "0.8661818181818182\n",
      "0.8690909090909091\n",
      "0.8714545454545455\n",
      "0.8683636363636363\n",
      "0.8598181818181818\n",
      "0.8752727272727273\n",
      "0.8583636363636363\n",
      "0.8714545454545455\n",
      "0.8654545454545455\n",
      "0.8690909090909091\n",
      "0.8687272727272727\n",
      "0.862909090909091\n",
      "0.8681818181818182\n",
      "0.8747272727272727\n",
      "0.8658181818181818\n",
      "0.8645454545454545\n",
      "0.8632727272727273\n",
      "train_loss : 5446.361189865274\n",
      "acc = 0.8676400184631348\n",
      "count = 136506\n",
      "\n",
      "epoch : 2\n"
     ]
    },
    {
     "data": {
      "application/vnd.jupyter.widget-view+json": {
       "model_id": "",
       "version_major": 2,
       "version_minor": 0
      },
      "text/plain": [
       "  0%|          | 0/22728 [00:00<?, ?it/s]"
      ]
     },
     "metadata": {},
     "output_type": "display_data"
    },
    {
     "name": "stdout",
     "output_type": "stream",
     "text": [
      "0.8718181818181818\n",
      "0.8763636363636363\n",
      "0.868\n",
      "0.8636363636363636\n",
      "0.8732727272727273\n",
      "0.8727272727272727\n",
      "0.8656363636363636\n",
      "0.8665454545454545\n",
      "0.8650909090909091\n",
      "0.8710909090909091\n",
      "0.8676363636363637\n",
      "0.876\n",
      "0.8732727272727273\n",
      "0.8694545454545455\n",
      "0.8607272727272727\n",
      "0.8672727272727273\n",
      "0.8692727272727273\n",
      "0.8650909090909091\n",
      "0.8585454545454545\n",
      "0.874\n",
      "0.8636363636363636\n",
      "0.8652727272727273\n",
      "0.8714545454545455\n",
      "0.8690909090909091\n",
      "0.866909090909091\n",
      "0.8674545454545455\n",
      "0.8663636363636363\n",
      "0.8623636363636363\n",
      "0.8687272727272727\n",
      "0.8607272727272727\n",
      "0.862909090909091\n",
      "0.8712727272727273\n",
      "0.8625454545454545\n",
      "0.868\n",
      "0.8678181818181818\n",
      "0.8687272727272727\n",
      "0.8667272727272727\n",
      "0.8683636363636363\n",
      "0.8741818181818182\n",
      "0.8750909090909091\n",
      "0.8685454545454545\n",
      "0.8665454545454545\n",
      "0.8696363636363637\n",
      "0.8687272727272727\n",
      "0.864\n",
      "train_loss : 5420.852346098865\n",
      "acc = 0.8680520057678223\n",
      "count = 136645\n",
      "\n",
      "epoch : 3\n"
     ]
    },
    {
     "data": {
      "application/vnd.jupyter.widget-view+json": {
       "model_id": "",
       "version_major": 2,
       "version_minor": 0
      },
      "text/plain": [
       "  0%|          | 0/22728 [00:00<?, ?it/s]"
      ]
     },
     "metadata": {},
     "output_type": "display_data"
    },
    {
     "name": "stdout",
     "output_type": "stream",
     "text": [
      "0.8705454545454545\n",
      "0.866909090909091\n",
      "0.8714545454545455\n",
      "0.8663636363636363\n",
      "0.8681818181818182\n",
      "0.8667272727272727\n",
      "0.8769090909090909\n",
      "0.8638181818181818\n",
      "0.8625454545454545\n",
      "0.8641818181818182\n",
      "0.8712727272727273\n",
      "0.8670909090909091\n",
      "0.868909090909091\n",
      "0.864\n",
      "0.8676363636363637\n",
      "0.8745454545454545\n",
      "0.8716363636363637\n",
      "0.862909090909091\n",
      "0.8725454545454545\n",
      "0.8705454545454545\n",
      "0.8645454545454545\n",
      "0.8747272727272727\n",
      "0.8692727272727273\n",
      "0.8632727272727273\n",
      "0.8665454545454545\n",
      "0.8763636363636363\n",
      "0.8710909090909091\n",
      "0.864909090909091\n",
      "0.876\n",
      "0.8658181818181818\n",
      "0.8674545454545455\n",
      "0.8652727272727273\n",
      "0.8674545454545455\n",
      "0.8787272727272727\n",
      "0.8736363636363637\n",
      "0.8734545454545455\n",
      "0.8736363636363637\n",
      "0.8598181818181818\n",
      "0.8636363636363636\n",
      "0.8667272727272727\n",
      "0.8576363636363636\n",
      "0.8705454545454545\n",
      "0.8632727272727273\n",
      "0.8670909090909091\n",
      "0.8694545454545455\n",
      "train_loss : 5425.038958998048\n",
      "acc = 0.868511974811554\n",
      "count = 136463\n",
      "\n",
      "epoch : 4\n"
     ]
    },
    {
     "data": {
      "application/vnd.jupyter.widget-view+json": {
       "model_id": "de31b76a9e6a4d65809a9b20900b3a0a",
       "version_major": 2,
       "version_minor": 0
      },
      "text/plain": [
       "  0%|          | 0/22728 [00:00<?, ?it/s]"
      ]
     },
     "metadata": {},
     "output_type": "display_data"
    },
    {
     "name": "stderr",
     "output_type": "stream",
     "text": [
      "Exception in thread Thread-9 (_pin_memory_loop):\n",
      "Traceback (most recent call last):\n",
      "  File \"/home/server4/anaconda3/envs/jy/lib/python3.11/threading.py\", line 1038, in _bootstrap_inner\n",
      "    self.run()\n",
      "  File \"/home/server4/anaconda3/envs/jy/lib/python3.11/threading.py\", line 975, in run\n",
      "    self._target(*self._args, **self._kwargs)\n",
      "  File \"/home/server4/anaconda3/envs/jy/lib/python3.11/site-packages/torch/utils/data/_utils/pin_memory.py\", line 51, in _pin_memory_loop\n",
      "    do_one_step()\n",
      "  File \"/home/server4/anaconda3/envs/jy/lib/python3.11/site-packages/torch/utils/data/_utils/pin_memory.py\", line 28, in do_one_step\n",
      "    r = in_queue.get(timeout=MP_STATUS_CHECK_INTERVAL)\n",
      "        ^^^^^^^^^^^^^^^^^^^^^^^^^^^^^^^^^^^^^^^^^^^^^^\n",
      "  File \"/home/server4/anaconda3/envs/jy/lib/python3.11/multiprocessing/queues.py\", line 122, in get\n",
      "    return _ForkingPickler.loads(res)\n",
      "           ^^^^^^^^^^^^^^^^^^^^^^^^^^\n",
      "  File \"/home/server4/anaconda3/envs/jy/lib/python3.11/site-packages/torch/multiprocessing/reductions.py\", line 307, in rebuild_storage_fd\n",
      "    fd = df.detach()\n",
      "         ^^^^^^^^^^^\n",
      "  File \"/home/server4/anaconda3/envs/jy/lib/python3.11/multiprocessing/resource_sharer.py\", line 57, in detach\n",
      "    with _resource_sharer.get_connection(self._id) as conn:\n",
      "         ^^^^^^^^^^^^^^^^^^^^^^^^^^^^^^^^^^^^^^^^^\n",
      "  File \"/home/server4/anaconda3/envs/jy/lib/python3.11/multiprocessing/resource_sharer.py\", line 86, in get_connection\n",
      "    c = Client(address, authkey=process.current_process().authkey)\n",
      "        ^^^^^^^^^^^^^^^^^^^^^^^^^^^^^^^^^^^^^^^^^^^^^^^^^^^^^^^^^^\n",
      "  File \"/home/server4/anaconda3/envs/jy/lib/python3.11/multiprocessing/connection.py\", line 501, in Client\n",
      "    c = SocketClient(address)\n",
      "        ^^^^^^^^^^^^^^^^^^^^^\n",
      "  File \"/home/server4/anaconda3/envs/jy/lib/python3.11/multiprocessing/connection.py\", line 629, in SocketClient\n",
      "    s.connect(address)\n",
      "FileNotFoundError: [Errno 2] No such file or directory\n"
     ]
    }
   ],
   "source": [
    "for epoch in tqdm(range(0,13,1)):\n",
    "    model.train()\n",
    "    train_loss = 0\n",
    "    acc = 0\n",
    "    tmp_acc = 0\n",
    "    cnt = 0\n",
    "    print(f'\\nepoch : {epoch+1}')\n",
    "    for i, batch in tqdm(enumerate(train_loader),leave=False,total=len(train_loader)):\n",
    "        input_ids = batch['input_ids'].to(device)\n",
    "        attention_mask = batch['attention_mask'].to(device)\n",
    "        #token_type_ids = batch['token_type_ids'].to(device)\n",
    "        labels = batch['labels'].to(device)\n",
    "        outputs = model(input_ids, attention_mask=attention_mask, labels=labels)\n",
    "        logits = outputs.logits\n",
    "        preds = torch.argmax(logits, axis=1)\n",
    "        acc += torch.sum(labels==preds)\n",
    "        tmp_acc += torch.sum(labels==preds)\n",
    "        cnt += torch.sum(preds)\n",
    "        loss = outputs.loss\n",
    "        train_loss += loss.item()\n",
    "        loss.backward()\n",
    "        if i%500==499:\n",
    "            print(tmp_acc.item()/ (500*BATCH_SIZE))\n",
    "            tmp_acc = 0\n",
    "        #optimizer.step()\n",
    "        optimizer.zero_grad()\n",
    "    model.save_pretrained(f\"model_infinite_gcbc_no_zero_grad/cpp-{epoch}\", from_pt=True)\n",
    "    print(f'train_loss : {train_loss}\\nacc = {acc / len(train_data)}\\ncount = {cnt}')"
   ]
  },
  {
   "cell_type": "code",
   "execution_count": 4,
   "id": "31b24a71",
   "metadata": {},
   "outputs": [],
   "source": [
    "class testDataset(Dataset):\n",
    "    def __init__(self, data, tokenizer, max_len):\n",
    "        self.tokenizer = tokenizer\n",
    "        self.max_len = max_len\n",
    "        self.code1 = data['code1'].to_numpy()\n",
    "        self.code2 = data['code2'].to_numpy()\n",
    "\n",
    "    def __len__(self):\n",
    "        return len(self.code1)\n",
    "\n",
    "    def __getitem__(self, idx):\n",
    "        code1 = self.code1[idx]\n",
    "        code2 = self.code2[idx]\n",
    "        \n",
    "        encoding = self.tokenizer(\n",
    "            code1,\n",
    "            code2,\n",
    "            add_special_tokens=True,\n",
    "            max_length=self.max_len,\n",
    "            truncation=True,\n",
    "            return_tensors=\"pt\",\n",
    "            padding='max_length'\n",
    "        )\n",
    "        \n",
    "\n",
    "        return {'input_ids': encoding['input_ids'][0],\n",
    "                'attention_mask': encoding['attention_mask'][0]}\n"
   ]
  },
  {
   "cell_type": "code",
   "execution_count": 5,
   "id": "dc320ccc",
   "metadata": {},
   "outputs": [],
   "source": [
    "test_data = pd.read_csv('./test.csv')\n",
    "model_name = 'microsoft/graphcodebert-base'\n",
    "tokenizer = AutoTokenizer.from_pretrained(model_name)\n",
    "test_dataset = testDataset(test_data, tokenizer, max_len=512)\n",
    "\n",
    "test_loader = DataLoader(test_dataset, batch_size=220, shuffle=False, num_workers=4)\n",
    "\n",
    "device = torch.device('cuda' if torch.cuda.is_available() else 'cpu')"
   ]
  },
  {
   "cell_type": "code",
   "execution_count": 6,
   "id": "b0c90000",
   "metadata": {},
   "outputs": [
    {
     "data": {
      "application/vnd.jupyter.widget-view+json": {
       "model_id": "d9e5ca33303744b4af59ac13a205046a",
       "version_major": 2,
       "version_minor": 0
      },
      "text/plain": [
       "  0%|          | 0/2705 [00:00<?, ?it/s]"
      ]
     },
     "metadata": {},
     "output_type": "display_data"
    }
   ],
   "source": [
    "model = AutoModelForSequenceClassification.from_pretrained('model_infinite_gcbc/cpp-12')\n",
    "model.to(device)\n",
    "model.eval()\n",
    "with torch.no_grad():\n",
    "    test_preds = []\n",
    "    for i, batch in tqdm(enumerate(test_loader),total=len(test_loader)):\n",
    "        input_ids = batch['input_ids'].to(device)\n",
    "        attention_mask = batch['attention_mask'].to(device)\n",
    "        outputs = model(input_ids, attention_mask=attention_mask)\n",
    "        logits = outputs.logits\n",
    "        preds = torch.argmax(logits, axis=1)\n",
    "        test_preds.extend(preds.cpu().numpy())\n",
    "submission = pd.DataFrame({'pair_id': test_data['pair_id'], 'similar': test_preds})\n",
    "submission.to_csv('./submission.csv', index=False)"
   ]
  },
  {
   "cell_type": "code",
   "execution_count": 7,
   "id": "4c208fc1",
   "metadata": {},
   "outputs": [
    {
     "data": {
      "text/plain": [
       "322766"
      ]
     },
     "execution_count": 7,
     "metadata": {},
     "output_type": "execute_result"
    }
   ],
   "source": [
    "sum(pd.read_csv('submission.csv')['similar'])"
   ]
  },
  {
   "cell_type": "code",
   "execution_count": null,
   "id": "f7ef373d",
   "metadata": {},
   "outputs": [],
   "source": []
  }
 ],
 "metadata": {
  "kernelspec": {
   "display_name": "Python 3 (ipykernel)",
   "language": "python",
   "name": "python3"
  },
  "language_info": {
   "codemirror_mode": {
    "name": "ipython",
    "version": 3
   },
   "file_extension": ".py",
   "mimetype": "text/x-python",
   "name": "python",
   "nbconvert_exporter": "python",
   "pygments_lexer": "ipython3",
   "version": "3.11.5"
  }
 },
 "nbformat": 4,
 "nbformat_minor": 5
}
