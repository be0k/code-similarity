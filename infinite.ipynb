{
 "cells": [
  {
   "cell_type": "code",
   "execution_count": 1,
   "id": "acee7692",
   "metadata": {},
   "outputs": [],
   "source": [
    "import pandas as pd\n",
    "import numpy as np\n",
    "from transformers import AutoTokenizer, AutoModelForSequenceClassification\n",
    "from torch.utils.data import Dataset, DataLoader\n",
    "import torch\n",
    "from tqdm.notebook import tqdm\n",
    "import random\n",
    "import os"
   ]
  },
  {
   "cell_type": "code",
   "execution_count": 2,
   "id": "b225921d",
   "metadata": {},
   "outputs": [],
   "source": [
    "BATCH_SIZE = 11"
   ]
  },
  {
   "cell_type": "code",
   "execution_count": 3,
   "id": "fad81517",
   "metadata": {},
   "outputs": [],
   "source": [
    "def seed_all(seed):\n",
    "    random.seed(seed)\n",
    "    os.environ['PYTHONDASHSEED'] = str(seed)\n",
    "    np.random.seed(seed)\n",
    "    torch.manual_seed(seed)\n",
    "    torch.cuda.manual_seed(seed)\n",
    "seed_all(42)"
   ]
  },
  {
   "cell_type": "code",
   "execution_count": 4,
   "id": "10be0981",
   "metadata": {},
   "outputs": [],
   "source": [
    "class NewsDataset(Dataset):\n",
    "    def __init__(self, data, tokenizer, max_len):\n",
    "        self.tokenizer = tokenizer\n",
    "        self.max_len = max_len\n",
    "        self.code = data['code'].to_numpy()\n",
    "        self.problem = data['label'].to_numpy()\n",
    "\n",
    "    def __len__(self):\n",
    "        return len(self.code)\n",
    "\n",
    "    def __getitem__(self, idx):\n",
    "        code1 = self.code[idx]\n",
    "        standard = 500*self.problem[idx]\n",
    "        r = np.random.random()\n",
    "        #good\n",
    "        if r < 0.5:\n",
    "            tmp = np.random.randint(standard, standard + 500)\n",
    "            code2 = self.code[tmp]\n",
    "            label = 1\n",
    "        #bad\n",
    "        else:\n",
    "            tmp = np.random.randint(standard + 500, len(self.code) + standard) % len(self.code)\n",
    "            code2 = self.code[tmp]\n",
    "            label = 0\n",
    "        encoding = self.tokenizer(\n",
    "            code1,\n",
    "            code2,\n",
    "            add_special_tokens=True,\n",
    "            max_length=self.max_len,\n",
    "            truncation=True,\n",
    "            return_tensors=\"pt\",\n",
    "            padding='max_length'\n",
    "        )\n",
    "\n",
    "        return {'input_ids': encoding['input_ids'][0],\n",
    "                'attention_mask': encoding['attention_mask'][0],\n",
    "                #'token_type_ids' : encoding['token_type_ids'][0],\n",
    "                'labels': torch.tensor(label, dtype=torch.long)}"
   ]
  },
  {
   "cell_type": "code",
   "execution_count": 5,
   "id": "bbcf0346",
   "metadata": {},
   "outputs": [
    {
     "name": "stderr",
     "output_type": "stream",
     "text": [
      "/home/server4/anaconda3/envs/jy/lib/python3.11/site-packages/torch/_utils.py:776: UserWarning: TypedStorage is deprecated. It will be removed in the future and UntypedStorage will be the only storage class. This should only matter to you if you are using storages directly.  To access UntypedStorage directly, use tensor.untyped_storage() instead of tensor.storage()\n",
      "  return self.fget.__get__(instance, owner)()\n",
      "Some weights of RobertaForSequenceClassification were not initialized from the model checkpoint at microsoft/graphcodebert-base and are newly initialized: ['classifier.dense.bias', 'classifier.dense.weight', 'classifier.out_proj.bias', 'classifier.out_proj.weight']\n",
      "You should probably TRAIN this model on a down-stream task to be able to use it for predictions and inference.\n"
     ]
    }
   ],
   "source": [
    "#model_name = \"neulab/codebert-cpp\"\n",
    "#model_name = 'neulab/codebert-cpp'\n",
    "model_name = 'microsoft/graphcodebert-base'\n",
    "train_data = pd.read_csv('./all_code.csv')\n",
    "\n",
    "tokenizer = AutoTokenizer.from_pretrained(model_name)\n",
    "train_dataset = NewsDataset(train_data, tokenizer, max_len=512)\n",
    "\n",
    "train_loader = DataLoader(train_dataset, batch_size=BATCH_SIZE, shuffle=True, pin_memory=True, num_workers=4)\n",
    "\n",
    "model = AutoModelForSequenceClassification.from_pretrained(model_name)\n",
    "device = torch.device('cuda' if torch.cuda.is_available() else 'cpu')\n",
    "model.to(device)\n",
    "\n",
    "optimizer = torch.optim.AdamW(model.parameters(), lr=1e-5)"
   ]
  },
  {
   "cell_type": "code",
   "execution_count": 7,
   "id": "9ccf8e47",
   "metadata": {
    "scrolled": true
   },
   "outputs": [
    {
     "data": {
      "application/vnd.jupyter.widget-view+json": {
       "model_id": "6ad04cdda37d42f397cf87c14eb5fdd4",
       "version_major": 2,
       "version_minor": 0
      },
      "text/plain": [
       "  0%|          | 0/8 [00:00<?, ?it/s]"
      ]
     },
     "metadata": {},
     "output_type": "display_data"
    },
    {
     "name": "stdout",
     "output_type": "stream",
     "text": [
      "\n",
      "epoch : 6\n"
     ]
    },
    {
     "data": {
      "application/vnd.jupyter.widget-view+json": {
       "model_id": "",
       "version_major": 2,
       "version_minor": 0
      },
      "text/plain": [
       "  0%|          | 0/22728 [00:00<?, ?it/s]"
      ]
     },
     "metadata": {},
     "output_type": "display_data"
    },
    {
     "name": "stdout",
     "output_type": "stream",
     "text": [
      "0.8478181818181818\n",
      "0.8474545454545455\n",
      "0.8414545454545455\n",
      "0.8418181818181818\n",
      "0.8465454545454546\n",
      "0.8392727272727273\n",
      "0.8456363636363636\n",
      "0.8445454545454546\n",
      "0.8358181818181818\n",
      "0.8445454545454546\n",
      "0.8483636363636363\n",
      "0.8434545454545455\n",
      "0.8418181818181818\n",
      "0.852909090909091\n",
      "0.8429090909090909\n",
      "0.8381818181818181\n",
      "0.8416363636363636\n",
      "0.8456363636363636\n",
      "0.8490909090909091\n",
      "0.8445454545454546\n",
      "0.848909090909091\n",
      "0.8421818181818181\n",
      "0.8450909090909091\n",
      "0.8458181818181818\n",
      "0.8438181818181818\n",
      "0.8467272727272728\n",
      "0.8461818181818181\n",
      "0.8483636363636363\n",
      "0.8467272727272728\n",
      "0.8456363636363636\n",
      "0.8514545454545455\n",
      "0.8429090909090909\n",
      "0.8394545454545455\n",
      "0.8503636363636363\n",
      "0.848\n",
      "0.8443636363636363\n",
      "0.8534545454545455\n",
      "0.8458181818181818\n",
      "0.8521818181818182\n",
      "0.8449090909090909\n",
      "0.8434545454545455\n",
      "0.8505454545454545\n",
      "0.8412727272727273\n",
      "0.8536363636363636\n",
      "0.8481818181818181\n",
      "train_loss : 5932.479431619344\n",
      "acc = 0.8456799983978271\n",
      "count = 139817\n",
      "\n",
      "epoch : 7\n"
     ]
    },
    {
     "data": {
      "application/vnd.jupyter.widget-view+json": {
       "model_id": "",
       "version_major": 2,
       "version_minor": 0
      },
      "text/plain": [
       "  0%|          | 0/22728 [00:00<?, ?it/s]"
      ]
     },
     "metadata": {},
     "output_type": "display_data"
    },
    {
     "name": "stdout",
     "output_type": "stream",
     "text": [
      "0.8510909090909091\n",
      "0.8523636363636363\n",
      "0.8441818181818181\n",
      "0.846909090909091\n",
      "0.8450909090909091\n",
      "0.8538181818181818\n",
      "0.8396363636363636\n",
      "0.8532727272727273\n",
      "0.8378181818181818\n",
      "0.8490909090909091\n",
      "0.8485454545454545\n",
      "0.8443636363636363\n",
      "0.8472727272727273\n",
      "0.8552727272727273\n",
      "0.8429090909090909\n",
      "0.8481818181818181\n",
      "0.8410909090909091\n",
      "0.8389090909090909\n",
      "0.8454545454545455\n",
      "0.8518181818181818\n",
      "0.854909090909091\n",
      "0.8436363636363636\n",
      "0.8458181818181818\n",
      "0.8523636363636363\n",
      "0.8567272727272728\n",
      "0.8450909090909091\n",
      "0.8427272727272728\n",
      "0.8389090909090909\n",
      "0.848909090909091\n",
      "0.854909090909091\n",
      "0.8472727272727273\n",
      "0.8512727272727273\n",
      "0.8550909090909091\n",
      "0.8494545454545455\n",
      "0.850909090909091\n",
      "0.8550909090909091\n",
      "0.8516363636363636\n",
      "0.8476363636363636\n",
      "0.8394545454545455\n",
      "0.8483636363636363\n",
      "0.8472727272727273\n",
      "0.848\n",
      "0.8547272727272728\n",
      "0.8449090909090909\n",
      "0.8490909090909091\n",
      "train_loss : 5875.959559364535\n",
      "acc = 0.8480839729309082\n",
      "count = 139854\n",
      "\n",
      "epoch : 8\n"
     ]
    },
    {
     "data": {
      "application/vnd.jupyter.widget-view+json": {
       "model_id": "",
       "version_major": 2,
       "version_minor": 0
      },
      "text/plain": [
       "  0%|          | 0/22728 [00:00<?, ?it/s]"
      ]
     },
     "metadata": {},
     "output_type": "display_data"
    },
    {
     "name": "stdout",
     "output_type": "stream",
     "text": [
      "0.8452727272727273\n",
      "0.8501818181818181\n",
      "0.8454545454545455\n",
      "0.8512727272727273\n",
      "0.8447272727272728\n",
      "0.8505454545454545\n",
      "0.8547272727272728\n",
      "0.8476363636363636\n",
      "0.8478181818181818\n",
      "0.8570909090909091\n",
      "0.8505454545454545\n",
      "0.8510909090909091\n",
      "0.8556363636363636\n",
      "0.8596363636363636\n",
      "0.8538181818181818\n",
      "0.850909090909091\n",
      "0.8538181818181818\n",
      "0.8558181818181818\n",
      "0.8476363636363636\n",
      "0.8478181818181818\n",
      "0.8450909090909091\n",
      "0.8550909090909091\n",
      "0.8485454545454545\n",
      "0.8605454545454545\n",
      "0.852\n",
      "0.8563636363636363\n",
      "0.8438181818181818\n",
      "0.8621818181818182\n",
      "0.8478181818181818\n",
      "0.8538181818181818\n",
      "0.8594545454545455\n",
      "0.8521818181818182\n",
      "0.8578181818181818\n",
      "0.8565454545454545\n",
      "0.8578181818181818\n",
      "0.85\n",
      "0.8478181818181818\n",
      "0.8634545454545455\n",
      "0.8527272727272728\n",
      "0.8503636363636363\n",
      "0.8474545454545455\n",
      "0.8567272727272728\n",
      "0.852\n",
      "0.8550909090909091\n",
      "0.8505454545454545\n",
      "train_loss : 5774.784787448414\n",
      "acc = 0.8523600101470947\n",
      "count = 140315\n",
      "\n",
      "epoch : 9\n"
     ]
    },
    {
     "data": {
      "application/vnd.jupyter.widget-view+json": {
       "model_id": "",
       "version_major": 2,
       "version_minor": 0
      },
      "text/plain": [
       "  0%|          | 0/22728 [00:00<?, ?it/s]"
      ]
     },
     "metadata": {},
     "output_type": "display_data"
    },
    {
     "name": "stdout",
     "output_type": "stream",
     "text": [
      "0.8465454545454546\n",
      "0.8550909090909091\n",
      "0.8592727272727273\n",
      "0.8467272727272728\n",
      "0.854909090909091\n",
      "0.8585454545454545\n",
      "0.8478181818181818\n",
      "0.8634545454545455\n",
      "0.854\n",
      "0.8556363636363636\n",
      "0.8587272727272727\n",
      "0.8630909090909091\n",
      "0.8554545454545455\n",
      "0.852\n",
      "0.848\n",
      "0.8476363636363636\n",
      "0.8581818181818182\n",
      "0.8530909090909091\n",
      "0.8545454545454545\n",
      "0.8612727272727273\n",
      "0.8554545454545455\n",
      "0.8603636363636363\n",
      "0.8550909090909091\n",
      "0.8570909090909091\n",
      "0.8587272727272727\n",
      "0.860909090909091\n",
      "0.8552727272727273\n",
      "0.8574545454545455\n",
      "0.8514545454545455\n",
      "0.854909090909091\n",
      "0.8578181818181818\n",
      "0.8612727272727273\n",
      "0.8612727272727273\n",
      "0.8570909090909091\n",
      "0.850909090909091\n",
      "0.8532727272727273\n",
      "0.8634545454545455\n",
      "0.8621818181818182\n",
      "0.8543636363636363\n",
      "0.8576363636363636\n",
      "0.8545454545454545\n",
      "0.8550909090909091\n",
      "0.864\n",
      "0.8570909090909091\n",
      "0.850909090909091\n",
      "train_loss : 5666.577482101886\n",
      "acc = 0.8560879826545715\n",
      "count = 141278\n",
      "\n",
      "epoch : 10\n"
     ]
    },
    {
     "data": {
      "application/vnd.jupyter.widget-view+json": {
       "model_id": "",
       "version_major": 2,
       "version_minor": 0
      },
      "text/plain": [
       "  0%|          | 0/22728 [00:00<?, ?it/s]"
      ]
     },
     "metadata": {},
     "output_type": "display_data"
    },
    {
     "name": "stdout",
     "output_type": "stream",
     "text": [
      "0.856\n",
      "0.8521818181818182\n",
      "0.8645454545454545\n",
      "0.8538181818181818\n",
      "0.8567272727272728\n",
      "0.858909090909091\n",
      "0.8576363636363636\n",
      "0.8563636363636363\n",
      "0.8578181818181818\n",
      "0.8596363636363636\n",
      "0.8627272727272727\n",
      "0.8614545454545455\n",
      "0.8590909090909091\n",
      "0.8694545454545455\n",
      "0.864909090909091\n",
      "0.856909090909091\n",
      "0.8610909090909091\n",
      "0.848\n",
      "0.8567272727272728\n",
      "0.8607272727272727\n",
      "0.858909090909091\n",
      "0.8625454545454545\n",
      "0.8536363636363636\n",
      "0.8652727272727273\n",
      "0.8587272727272727\n",
      "0.8592727272727273\n",
      "0.860909090909091\n",
      "0.8687272727272727\n",
      "0.858\n",
      "0.8621818181818182\n",
      "0.862\n",
      "0.8563636363636363\n",
      "0.8592727272727273\n",
      "0.852\n",
      "0.8585454545454545\n",
      "0.862909090909091\n",
      "0.8683636363636363\n",
      "0.8607272727272727\n",
      "0.8641818181818182\n",
      "0.854909090909091\n",
      "0.8587272727272727\n",
      "0.8581818181818182\n",
      "0.8554545454545455\n",
      "0.864\n",
      "0.8550909090909091\n",
      "train_loss : 5559.7773018100415\n",
      "acc = 0.8595319986343384\n",
      "count = 141280\n",
      "\n",
      "epoch : 11\n"
     ]
    },
    {
     "data": {
      "application/vnd.jupyter.widget-view+json": {
       "model_id": "",
       "version_major": 2,
       "version_minor": 0
      },
      "text/plain": [
       "  0%|          | 0/22728 [00:00<?, ?it/s]"
      ]
     },
     "metadata": {},
     "output_type": "display_data"
    },
    {
     "name": "stdout",
     "output_type": "stream",
     "text": [
      "0.8678181818181818\n",
      "0.8694545454545455\n",
      "0.8532727272727273\n",
      "0.8581818181818182\n",
      "0.8567272727272728\n",
      "0.864909090909091\n",
      "0.8614545454545455\n",
      "0.87\n",
      "0.8618181818181818\n",
      "0.8661818181818182\n",
      "0.8596363636363636\n",
      "0.8647272727272727\n",
      "0.8558181818181818\n",
      "0.8567272727272728\n",
      "0.8674545454545455\n",
      "0.8607272727272727\n",
      "0.8603636363636363\n",
      "0.8627272727272727\n",
      "0.8574545454545455\n",
      "0.8643636363636363\n",
      "0.8594545454545455\n",
      "0.8581818181818182\n",
      "0.864909090909091\n",
      "0.8618181818181818\n",
      "0.8603636363636363\n",
      "0.8630909090909091\n",
      "0.8632727272727273\n",
      "0.8638181818181818\n",
      "0.8683636363636363\n",
      "0.8663636363636363\n",
      "0.8585454545454545\n",
      "0.8625454545454545\n",
      "0.8625454545454545\n",
      "0.866909090909091\n",
      "0.8638181818181818\n",
      "0.8656363636363636\n",
      "0.8672727272727273\n",
      "0.862909090909091\n",
      "0.8638181818181818\n",
      "0.8696363636363637\n",
      "0.8703636363636363\n",
      "0.8658181818181818\n",
      "0.8532727272727273\n",
      "0.862\n",
      "0.8605454545454545\n",
      "train_loss : 5494.561061821441\n",
      "acc = 0.8628360033035278\n",
      "count = 139333\n",
      "\n",
      "epoch : 12\n"
     ]
    },
    {
     "data": {
      "application/vnd.jupyter.widget-view+json": {
       "model_id": "",
       "version_major": 2,
       "version_minor": 0
      },
      "text/plain": [
       "  0%|          | 0/22728 [00:00<?, ?it/s]"
      ]
     },
     "metadata": {},
     "output_type": "display_data"
    },
    {
     "name": "stdout",
     "output_type": "stream",
     "text": [
      "0.8630909090909091\n",
      "0.864909090909091\n",
      "0.8703636363636363\n",
      "0.8738181818181818\n",
      "0.8643636363636363\n",
      "0.868\n",
      "0.8678181818181818\n",
      "0.8674545454545455\n",
      "0.8658181818181818\n",
      "0.8587272727272727\n",
      "0.8685454545454545\n",
      "0.8625454545454545\n",
      "0.8654545454545455\n",
      "0.8603636363636363\n",
      "0.8738181818181818\n",
      "0.8645454545454545\n",
      "0.8603636363636363\n",
      "0.8705454545454545\n",
      "0.8678181818181818\n",
      "0.8665454545454545\n",
      "0.8570909090909091\n",
      "0.8623636363636363\n",
      "0.8696363636363637\n",
      "0.8710909090909091\n",
      "0.8661818181818182\n",
      "0.8690909090909091\n",
      "0.860909090909091\n",
      "0.8670909090909091\n",
      "0.866909090909091\n",
      "0.8683636363636363\n",
      "0.8665454545454545\n",
      "0.8621818181818182\n",
      "0.8647272727272727\n",
      "0.8590909090909091\n",
      "0.8685454545454545\n",
      "0.8596363636363636\n",
      "0.8630909090909091\n",
      "0.8623636363636363\n",
      "0.8672727272727273\n",
      "0.8565454545454545\n",
      "0.8570909090909091\n",
      "0.8683636363636363\n",
      "0.8638181818181818\n",
      "0.866\n",
      "0.862\n",
      "train_loss : 5437.01136519108\n",
      "acc = 0.8651000261306763\n",
      "count = 138362\n",
      "\n",
      "epoch : 13\n"
     ]
    },
    {
     "data": {
      "application/vnd.jupyter.widget-view+json": {
       "model_id": "",
       "version_major": 2,
       "version_minor": 0
      },
      "text/plain": [
       "  0%|          | 0/22728 [00:00<?, ?it/s]"
      ]
     },
     "metadata": {},
     "output_type": "display_data"
    },
    {
     "name": "stdout",
     "output_type": "stream",
     "text": [
      "0.8634545454545455\n",
      "0.8663636363636363\n",
      "0.8683636363636363\n",
      "0.8654545454545455\n",
      "0.8745454545454545\n",
      "0.8710909090909091\n",
      "0.8703636363636363\n",
      "0.8712727272727273\n",
      "0.8712727272727273\n",
      "0.8676363636363637\n",
      "0.8774545454545455\n",
      "0.8694545454545455\n",
      "0.8707272727272727\n",
      "0.8676363636363637\n",
      "0.8678181818181818\n",
      "0.8583636363636363\n",
      "0.8678181818181818\n",
      "0.8745454545454545\n",
      "0.8658181818181818\n",
      "0.8667272727272727\n",
      "0.8709090909090909\n",
      "0.8656363636363636\n",
      "0.8654545454545455\n",
      "0.8747272727272727\n",
      "0.8692727272727273\n",
      "0.8725454545454545\n",
      "0.8683636363636363\n",
      "0.8696363636363637\n",
      "0.8712727272727273\n",
      "0.8581818181818182\n",
      "0.872\n",
      "0.8721818181818182\n",
      "0.868\n",
      "0.8718181818181818\n",
      "0.8781818181818182\n",
      "0.8690909090909091\n",
      "0.874\n",
      "0.8767272727272727\n",
      "0.8741818181818182\n",
      "0.8612727272727273\n",
      "0.8698181818181818\n",
      "0.8705454545454545\n",
      "0.8725454545454545\n",
      "0.8747272727272727\n",
      "0.8778181818181818\n",
      "train_loss : 5340.985961112718\n",
      "acc = 0.8699719905853271\n",
      "count = 139257\n"
     ]
    }
   ],
   "source": [
    "for epoch in tqdm(range(0,15,1)):\n",
    "    model.train()\n",
    "    train_loss = 0\n",
    "    acc = 0\n",
    "    tmp_acc = 0\n",
    "    cnt = 0\n",
    "    print(f'\\nepoch : {epoch+1}')\n",
    "    for i, batch in tqdm(enumerate(train_loader),leave=False,total=len(train_loader)):\n",
    "        input_ids = batch['input_ids'].to(device)\n",
    "        attention_mask = batch['attention_mask'].to(device)\n",
    "        #token_type_ids = batch['token_type_ids'].to(device)\n",
    "        labels = batch['labels'].to(device)\n",
    "        outputs = model(input_ids, attention_mask=attention_mask, labels=labels)\n",
    "        logits = outputs.logits\n",
    "        preds = torch.argmax(logits, axis=1)\n",
    "        acc += torch.sum(labels==preds)\n",
    "        tmp_acc += torch.sum(labels==preds)\n",
    "        cnt += torch.sum(preds)\n",
    "        loss = outputs.loss\n",
    "        train_loss += loss.item()\n",
    "        loss.backward()\n",
    "        if i%500==499:\n",
    "            print(tmp_acc.item()/ (500*BATCH_SIZE))\n",
    "            tmp_acc = 0\n",
    "        #optimizer.step()\n",
    "        optimizer.zero_grad()\n",
    "    model.save_pretrained(f\"model_infinite_gcbc_no_zero_grad/cpp-{epoch}\", from_pt=True)\n",
    "    print(f'train_loss : {train_loss}\\nacc = {acc / len(train_data)}\\ncount = {cnt}')"
   ]
  },
  {
   "cell_type": "code",
   "execution_count": 4,
   "id": "46117316",
   "metadata": {},
   "outputs": [],
   "source": [
    "class testDataset(Dataset):\n",
    "    def __init__(self, data, tokenizer, max_len):\n",
    "        self.tokenizer = tokenizer\n",
    "        self.max_len = max_len\n",
    "        self.code1 = data['code1'].to_numpy()\n",
    "        self.code2 = data['code2'].to_numpy()\n",
    "\n",
    "    def __len__(self):\n",
    "        return len(self.code1)\n",
    "\n",
    "    def __getitem__(self, idx):\n",
    "        code1 = self.code1[idx]\n",
    "        code2 = self.code2[idx]\n",
    "        \n",
    "        encoding = self.tokenizer(\n",
    "            code1,\n",
    "            code2,\n",
    "            add_special_tokens=True,\n",
    "            max_length=self.max_len,\n",
    "            truncation=True,\n",
    "            return_tensors=\"pt\",\n",
    "            padding='max_length'\n",
    "        )\n",
    "        \n",
    "\n",
    "        return {'input_ids': encoding['input_ids'][0],\n",
    "                'attention_mask': encoding['attention_mask'][0]}\n"
   ]
  },
  {
   "cell_type": "code",
   "execution_count": 5,
   "id": "dc320ccc",
   "metadata": {},
   "outputs": [],
   "source": [
    "test_data = pd.read_csv('./test.csv')\n",
    "model_name = 'neulab/codebert-cpp'\n",
    "tokenizer = AutoTokenizer.from_pretrained(model_name)\n",
    "test_dataset = testDataset(test_data, tokenizer, max_len=512)\n",
    "\n",
    "test_loader = DataLoader(test_dataset, batch_size=220, shuffle=False, num_workers=4)\n",
    "\n",
    "device = torch.device('cuda' if torch.cuda.is_available() else 'cpu')"
   ]
  },
  {
   "cell_type": "code",
   "execution_count": 6,
   "id": "b0c90000",
   "metadata": {},
   "outputs": [
    {
     "data": {
      "application/vnd.jupyter.widget-view+json": {
       "model_id": "c687686aac374b94b82f4b0cdc80484b",
       "version_major": 2,
       "version_minor": 0
      },
      "text/plain": [
       "  0%|          | 0/2705 [00:00<?, ?it/s]"
      ]
     },
     "metadata": {},
     "output_type": "display_data"
    }
   ],
   "source": [
    "model = AutoModelForSequenceClassification.from_pretrained('model_infinite_cbc/cpp-0')\n",
    "model.to(device)\n",
    "model.eval()\n",
    "with torch.no_grad():\n",
    "    test_preds = []\n",
    "    for i, batch in tqdm(enumerate(test_loader),total=len(test_loader)):\n",
    "        input_ids = batch['input_ids'].to(device)\n",
    "        attention_mask = batch['attention_mask'].to(device)\n",
    "        outputs = model(input_ids, attention_mask=attention_mask)\n",
    "        logits = outputs.logits\n",
    "        preds = torch.argmax(logits, axis=1)\n",
    "        test_preds.extend(preds.cpu().numpy())\n",
    "submission = pd.DataFrame({'pair_id': test_data['pair_id'], 'similar': test_preds})\n",
    "submission.to_csv('./submission.csv', index=False)"
   ]
  },
  {
   "cell_type": "code",
   "execution_count": 7,
   "id": "4c208fc1",
   "metadata": {},
   "outputs": [
    {
     "data": {
      "text/plain": [
       "211929"
      ]
     },
     "execution_count": 7,
     "metadata": {},
     "output_type": "execute_result"
    }
   ],
   "source": [
    "sum(pd.read_csv('submission.csv')['similar'])"
   ]
  },
  {
   "cell_type": "code",
   "execution_count": null,
   "id": "f7ef373d",
   "metadata": {},
   "outputs": [],
   "source": []
  }
 ],
 "metadata": {
  "kernelspec": {
   "display_name": "Python 3 (ipykernel)",
   "language": "python",
   "name": "python3"
  },
  "language_info": {
   "codemirror_mode": {
    "name": "ipython",
    "version": 3
   },
   "file_extension": ".py",
   "mimetype": "text/x-python",
   "name": "python",
   "nbconvert_exporter": "python",
   "pygments_lexer": "ipython3",
   "version": "3.11.5"
  }
 },
 "nbformat": 4,
 "nbformat_minor": 5
}
