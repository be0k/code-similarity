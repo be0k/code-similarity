{
 "cells": [
  {
   "cell_type": "code",
   "execution_count": 16,
   "id": "acee7692",
   "metadata": {},
   "outputs": [],
   "source": [
    "import pandas as pd\n",
    "import numpy as np\n",
    "from transformers import AutoTokenizer, AutoModelForSequenceClassification, AutoConfig\n",
    "from torch.utils.data import Dataset, DataLoader\n",
    "import torch\n",
    "from tqdm.notebook import tqdm\n",
    "import random\n",
    "import os"
   ]
  },
  {
   "cell_type": "code",
   "execution_count": 29,
   "id": "df1c83d8",
   "metadata": {},
   "outputs": [],
   "source": [
    "df = pd.read_csv('all_code.csv')"
   ]
  },
  {
   "cell_type": "code",
   "execution_count": 34,
   "id": "d39ab436",
   "metadata": {},
   "outputs": [
    {
     "data": {
      "text/html": [
       "<div>\n",
       "<style scoped>\n",
       "    .dataframe tbody tr th:only-of-type {\n",
       "        vertical-align: middle;\n",
       "    }\n",
       "\n",
       "    .dataframe tbody tr th {\n",
       "        vertical-align: top;\n",
       "    }\n",
       "\n",
       "    .dataframe thead th {\n",
       "        text-align: right;\n",
       "    }\n",
       "</style>\n",
       "<table border=\"1\" class=\"dataframe\">\n",
       "  <thead>\n",
       "    <tr style=\"text-align: right;\">\n",
       "      <th></th>\n",
       "      <th>label</th>\n",
       "      <th>code</th>\n",
       "    </tr>\n",
       "  </thead>\n",
       "  <tbody>\n",
       "    <tr>\n",
       "      <th>0</th>\n",
       "      <td>0</td>\n",
       "      <td>#include&lt;iostream&gt; #include&lt;cstdlib&gt; #include&lt;...</td>\n",
       "    </tr>\n",
       "    <tr>\n",
       "      <th>1</th>\n",
       "      <td>0</td>\n",
       "      <td>#define _USE_MATH_DEFINES  #include &lt;iostream&gt;...</td>\n",
       "    </tr>\n",
       "    <tr>\n",
       "      <th>2</th>\n",
       "      <td>0</td>\n",
       "      <td>#include &lt;iostream&gt;  using namespace std; usin...</td>\n",
       "    </tr>\n",
       "    <tr>\n",
       "      <th>3</th>\n",
       "      <td>0</td>\n",
       "      <td>#include &lt;stdio.h&gt; #include &lt;iostream&gt;  int ma...</td>\n",
       "    </tr>\n",
       "    <tr>\n",
       "      <th>4</th>\n",
       "      <td>0</td>\n",
       "      <td>#include&lt;bits/stdc++.h&gt; #define rep(i,n) for (...</td>\n",
       "    </tr>\n",
       "  </tbody>\n",
       "</table>\n",
       "</div>"
      ],
      "text/plain": [
       "   label                                               code\n",
       "0      0  #include<iostream> #include<cstdlib> #include<...\n",
       "1      0  #define _USE_MATH_DEFINES  #include <iostream>...\n",
       "2      0  #include <iostream>  using namespace std; usin...\n",
       "3      0  #include <stdio.h> #include <iostream>  int ma...\n",
       "4      0  #include<bits/stdc++.h> #define rep(i,n) for (..."
      ]
     },
     "execution_count": 34,
     "metadata": {},
     "output_type": "execute_result"
    }
   ],
   "source": [
    "df.head()"
   ]
  },
  {
   "cell_type": "code",
   "execution_count": 31,
   "id": "b5af9848",
   "metadata": {},
   "outputs": [],
   "source": [
    "df_test = pd.read_csv('test_refine.csv')"
   ]
  },
  {
   "cell_type": "code",
   "execution_count": 42,
   "id": "c6f4a6e8",
   "metadata": {},
   "outputs": [
    {
     "data": {
      "text/plain": [
       "False"
      ]
     },
     "execution_count": 42,
     "metadata": {},
     "output_type": "execute_result"
    }
   ],
   "source": [
    "df_test['code2'][10000] in df['code']"
   ]
  },
  {
   "cell_type": "code",
   "execution_count": 14,
   "id": "7715e265",
   "metadata": {},
   "outputs": [
    {
     "data": {
      "text/plain": [
       "CodeSageConfig {\n",
       "  \"_name_or_path\": \"codesage/codesage-small\",\n",
       "  \"activation_function\": \"gelu_new\",\n",
       "  \"architectures\": [\n",
       "    \"CodeSage\"\n",
       "  ],\n",
       "  \"attention_dropout_prob\": 0.1,\n",
       "  \"auto_map\": {\n",
       "    \"AutoConfig\": \"codesage/codesage-small--config_codesage.CodeSageConfig\",\n",
       "    \"AutoModel\": \"codesage/codesage-small--modeling_codesage.CodeSageModel\",\n",
       "    \"AutoModelForMaskedLM\": \"codesage/codesage-small--modeling_codesage.CodeSageForMaskedLM\",\n",
       "    \"AutoModelForSequenceClassification\": \"codesage/codesage-small--modeling_codesage.CodeSageForSequenceClassification\"\n",
       "  },\n",
       "  \"bos_token_id\": 0,\n",
       "  \"embedding_dropout_prob\": 0.1,\n",
       "  \"eos_token_id\": 0,\n",
       "  \"hidden_size\": 1024,\n",
       "  \"initializer_range\": 0.02,\n",
       "  \"intermediate_size\": 4096,\n",
       "  \"layer_norm_epsilon\": 1e-05,\n",
       "  \"max_position_embeddings\": 2048,\n",
       "  \"model_type\": \"codesage\",\n",
       "  \"num_attention_heads\": 8,\n",
       "  \"num_hidden_layers\": 6,\n",
       "  \"pad_token_id\": 49153,\n",
       "  \"position_embedding_type\": \"absolute\",\n",
       "  \"residual_dropout_prob\": 0.1,\n",
       "  \"transformers_version\": \"4.38.2\",\n",
       "  \"vocab_size\": 49154\n",
       "}"
      ]
     },
     "execution_count": 14,
     "metadata": {},
     "output_type": "execute_result"
    }
   ],
   "source": [
    "AutoConfig.from_pretrained('codesage/codesage-small', trust_remote_code=True)\n"
   ]
  },
  {
   "cell_type": "code",
   "execution_count": 3,
   "id": "945921f5",
   "metadata": {},
   "outputs": [],
   "source": [
    "BATCH_SIZE = 2"
   ]
  },
  {
   "cell_type": "code",
   "execution_count": 4,
   "id": "fad81517",
   "metadata": {},
   "outputs": [],
   "source": [
    "def seed_all(seed):\n",
    "    random.seed(seed)\n",
    "    os.environ['PYTHONDASHSEED'] = str(seed)\n",
    "    np.random.seed(seed)\n",
    "    torch.manual_seed(seed)\n",
    "    torch.cuda.manual_seed(seed)\n",
    "seed_all(42)"
   ]
  },
  {
   "cell_type": "code",
   "execution_count": 5,
   "id": "10be0981",
   "metadata": {},
   "outputs": [],
   "source": [
    "class NewsDataset(Dataset):\n",
    "    def __init__(self, data, tokenizer, max_len):\n",
    "        self.tokenizer = tokenizer\n",
    "        self.max_len = max_len\n",
    "        self.code = data['code'].to_numpy()\n",
    "        self.problem = data['label'].to_numpy()\n",
    "\n",
    "    def __len__(self):\n",
    "        return len(self.code)\n",
    "\n",
    "    def __getitem__(self, idx):\n",
    "        code1 = self.code[idx]\n",
    "        standard = 500*self.problem[idx]\n",
    "        r = np.random.random()\n",
    "        #good\n",
    "        if r < 0.5:\n",
    "            tmp = np.random.randint(standard, standard + 500)\n",
    "            code2 = self.code[tmp]\n",
    "            label = 1\n",
    "        #bad\n",
    "        else:\n",
    "            tmp = np.random.randint(standard + 500, len(self.code) + standard) % len(self.code)\n",
    "            code2 = self.code[tmp]\n",
    "            label = 0\n",
    "        encoding = self.tokenizer(\n",
    "            code1,\n",
    "            code2,\n",
    "            add_special_tokens=True,\n",
    "            max_length=self.max_len,\n",
    "            truncation=True,\n",
    "            return_tensors=\"pt\",\n",
    "            padding='max_length'\n",
    "        )\n",
    "\n",
    "        return {'input_ids': encoding['input_ids'][0],\n",
    "                'attention_mask': encoding['attention_mask'][0],\n",
    "                #'token_type_ids' : encoding['token_type_ids'][0],\n",
    "                'labels': torch.tensor(label, dtype=torch.long)}"
   ]
  },
  {
   "cell_type": "code",
   "execution_count": 17,
   "id": "efffde0c",
   "metadata": {},
   "outputs": [
    {
     "data": {
      "text/html": [
       "<div>\n",
       "<style scoped>\n",
       "    .dataframe tbody tr th:only-of-type {\n",
       "        vertical-align: middle;\n",
       "    }\n",
       "\n",
       "    .dataframe tbody tr th {\n",
       "        vertical-align: top;\n",
       "    }\n",
       "\n",
       "    .dataframe thead th {\n",
       "        text-align: right;\n",
       "    }\n",
       "</style>\n",
       "<table border=\"1\" class=\"dataframe\">\n",
       "  <thead>\n",
       "    <tr style=\"text-align: right;\">\n",
       "      <th></th>\n",
       "      <th>Unnamed: 0</th>\n",
       "      <th>pair_id</th>\n",
       "      <th>code1</th>\n",
       "      <th>code2</th>\n",
       "    </tr>\n",
       "  </thead>\n",
       "  <tbody>\n",
       "    <tr>\n",
       "      <th>0</th>\n",
       "      <td>0</td>\n",
       "      <td>TEST_000000</td>\n",
       "      <td>#include &lt;bits/stdc++.h&gt; using namespace std; ...</td>\n",
       "      <td>#include &lt;bits/stdc++.h&gt; #define rep(i, n) for...</td>\n",
       "    </tr>\n",
       "    <tr>\n",
       "      <th>1</th>\n",
       "      <td>1</td>\n",
       "      <td>TEST_000001</td>\n",
       "      <td>#include&lt;bits/stdc++.h&gt; #define rep(i,n)for(in...</td>\n",
       "      <td>// //bitset操作 // #include &lt;iostream&gt; // #inclu...</td>\n",
       "    </tr>\n",
       "    <tr>\n",
       "      <th>2</th>\n",
       "      <td>2</td>\n",
       "      <td>TEST_000002</td>\n",
       "      <td>#include &lt;bits/stdc++.h&gt; using namespace std; ...</td>\n",
       "      <td>#include &lt;bits/stdc++.h&gt; #include &lt;ext/pb_ds/a...</td>\n",
       "    </tr>\n",
       "    <tr>\n",
       "      <th>3</th>\n",
       "      <td>3</td>\n",
       "      <td>TEST_000003</td>\n",
       "      <td>#include &lt;bits/stdc++.h&gt; using namespace std; ...</td>\n",
       "      <td>#include &lt;bits/stdc++.h&gt; using namespace std; ...</td>\n",
       "    </tr>\n",
       "    <tr>\n",
       "      <th>4</th>\n",
       "      <td>4</td>\n",
       "      <td>TEST_000004</td>\n",
       "      <td>#include&lt;bits/stdc++.h&gt; using namespace std; c...</td>\n",
       "      <td>#include&lt;iostream&gt; #include&lt;algorithm&gt; #includ...</td>\n",
       "    </tr>\n",
       "  </tbody>\n",
       "</table>\n",
       "</div>"
      ],
      "text/plain": [
       "   Unnamed: 0      pair_id                                              code1  \\\n",
       "0           0  TEST_000000  #include <bits/stdc++.h> using namespace std; ...   \n",
       "1           1  TEST_000001  #include<bits/stdc++.h> #define rep(i,n)for(in...   \n",
       "2           2  TEST_000002  #include <bits/stdc++.h> using namespace std; ...   \n",
       "3           3  TEST_000003  #include <bits/stdc++.h> using namespace std; ...   \n",
       "4           4  TEST_000004  #include<bits/stdc++.h> using namespace std; c...   \n",
       "\n",
       "                                               code2  \n",
       "0  #include <bits/stdc++.h> #define rep(i, n) for...  \n",
       "1  // //bitset操作 // #include <iostream> // #inclu...  \n",
       "2  #include <bits/stdc++.h> #include <ext/pb_ds/a...  \n",
       "3  #include <bits/stdc++.h> using namespace std; ...  \n",
       "4  #include<iostream> #include<algorithm> #includ...  "
      ]
     },
     "execution_count": 17,
     "metadata": {},
     "output_type": "execute_result"
    }
   ],
   "source": [
    "df = pd.read_csv('./test_refine.csv')\n",
    "df.head()"
   ]
  },
  {
   "cell_type": "code",
   "execution_count": 24,
   "id": "37a7c218",
   "metadata": {},
   "outputs": [
    {
     "data": {
      "text/plain": [
       "0    #include <bits/stdc++.h> using namespace std; ...\n",
       "1    #include<bits/stdc++.h> #define rep(i,n)for(in...\n",
       "2    #include <bits/stdc++.h> using namespace std; ...\n",
       "3    #include <bits/stdc++.h> using namespace std; ...\n",
       "4    #include<bits/stdc++.h> using namespace std; c...\n",
       "dtype: object"
      ]
     },
     "execution_count": 24,
     "metadata": {},
     "output_type": "execute_result"
    }
   ],
   "source": [
    "df_merge = df['code1'] + ' ' + df['code2']\n",
    "df_merge.head()"
   ]
  },
  {
   "cell_type": "code",
   "execution_count": 25,
   "id": "1d4d8406",
   "metadata": {},
   "outputs": [],
   "source": [
    "tokenizer = AutoTokenizer.from_pretrained('codesage/codesage-small')\n",
    "\n",
    "# DataFrame의 문장들을 토큰화하고, 각 문장의 토큰 개수를 구한 후, 최대 토큰 개수를 찾습니다.\n",
    "tmp1 = df_merge.apply(lambda x: len(tokenizer.tokenize(x)))"
   ]
  },
  {
   "cell_type": "code",
   "execution_count": 27,
   "id": "207d90a3",
   "metadata": {},
   "outputs": [
    {
     "data": {
      "text/plain": [
       "582056"
      ]
     },
     "execution_count": 27,
     "metadata": {},
     "output_type": "execute_result"
    }
   ],
   "source": [
    "sum(tmp1<2048)"
   ]
  },
  {
   "cell_type": "code",
   "execution_count": 11,
   "id": "22a02e2e",
   "metadata": {},
   "outputs": [
    {
     "data": {
      "text/plain": [
       "571230"
      ]
     },
     "execution_count": 11,
     "metadata": {},
     "output_type": "execute_result"
    }
   ],
   "source": [
    "sum(tmp1<1024)"
   ]
  },
  {
   "cell_type": "code",
   "execution_count": 9,
   "id": "22ee3f73",
   "metadata": {},
   "outputs": [
    {
     "data": {
      "text/plain": [
       "571409"
      ]
     },
     "execution_count": 9,
     "metadata": {},
     "output_type": "execute_result"
    }
   ],
   "source": [
    "sum(tmp2<1024)"
   ]
  },
  {
   "cell_type": "code",
   "execution_count": 28,
   "id": "9134d59a",
   "metadata": {},
   "outputs": [
    {
     "data": {
      "text/plain": [
       "<Axes: ylabel='Count'>"
      ]
     },
     "execution_count": 28,
     "metadata": {},
     "output_type": "execute_result"
    },
    {
     "data": {
      "image/png": "[encoded data removed]",
      "text/plain": [
       "<Figure size 640x480 with 1 Axes>"
      ]
     },
     "metadata": {},
     "output_type": "display_data"
    }
   ],
   "source": [
    "import seaborn as sns\n",
    "sns.histplot(x=tmp1, binwidth=128)"
   ]
  },
  {
   "cell_type": "code",
   "execution_count": 5,
   "id": "bbcf0346",
   "metadata": {},
   "outputs": [
    {
     "name": "stderr",
     "output_type": "stream",
     "text": [
      "/home/server4/anaconda3/envs/jy/lib/python3.11/site-packages/torch/_utils.py:776: UserWarning: TypedStorage is deprecated. It will be removed in the future and UntypedStorage will be the only storage class. This should only matter to you if you are using storages directly.  To access UntypedStorage directly, use tensor.untyped_storage() instead of tensor.storage()\n",
      "  return self.fget.__get__(instance, owner)()\n",
      "Some weights of CodeSageForSequenceClassification were not initialized from the model checkpoint at codesage/codesage-small and are newly initialized: ['classifier.bias', 'classifier.weight']\n",
      "You should probably TRAIN this model on a down-stream task to be able to use it for predictions and inference.\n"
     ]
    }
   ],
   "source": [
    "#model_name = \"neulab/codebert-cpp\"\n",
    "#model_name = 'neulab/codebert-cpp'\n",
    "#model_name = 'microsoft/graphcodebert-base'\n",
    "\n",
    "model_name = 'codesage/codesage-small'\n",
    "train_data = pd.read_csv('./all_code.csv')\n",
    "\n",
    "\n",
    "tokenizer = AutoTokenizer.from_pretrained(model_name, trust_remote_code=True)\n",
    "config = AutoConfig.from_pretrained(model_name, trust_remote_code=True)\n",
    "train_dataset = NewsDataset(train_data, tokenizer, max_len=2048)\n",
    "\n",
    "train_loader = DataLoader(train_dataset, batch_size=BATCH_SIZE, shuffle=True, pin_memory=True, num_workers=4)\n",
    "\n",
    "config.problem_type = \"single_label_classification\"\n",
    "config.num_labels = 2\n",
    "config.classifier_dropout = None\n",
    "model = AutoModelForSequenceClassification.from_pretrained(\n",
    "        model_name, config=config, trust_remote_code=True\n",
    "    )\n",
    "device = torch.device('cuda' if torch.cuda.is_available() else 'cpu')\n",
    "model.to(device)\n",
    "\n",
    "optimizer = torch.optim.AdamW(model.parameters(), lr=1e-5)"
   ]
  },
  {
   "cell_type": "code",
   "execution_count": null,
   "id": "9ccf8e47",
   "metadata": {
    "scrolled": false
   },
   "outputs": [
    {
     "data": {
      "application/vnd.jupyter.widget-view+json": {
       "model_id": "6da040fe56d64d4b85e6076b5fbf2a73",
       "version_major": 2,
       "version_minor": 0
      },
      "text/plain": [
       "  0%|          | 0/1 [00:00<?, ?it/s]"
      ]
     },
     "metadata": {},
     "output_type": "display_data"
    },
    {
     "name": "stdout",
     "output_type": "stream",
     "text": [
      "\n",
      "epoch : 1\n"
     ]
    },
    {
     "data": {
      "application/vnd.jupyter.widget-view+json": {
       "model_id": "155a7a0ca7f94694a652dbfce314c8d0",
       "version_major": 2,
       "version_minor": 0
      },
      "text/plain": [
       "  0%|          | 0/125000 [00:00<?, ?it/s]"
      ]
     },
     "metadata": {},
     "output_type": "display_data"
    },
    {
     "name": "stdout",
     "output_type": "stream",
     "text": [
      "0.5613333333333334\n",
      "0.774\n"
     ]
    }
   ],
   "source": [
    "for epoch in tqdm(range(0,1,1)):\n",
    "    model.train()\n",
    "    train_loss = 0\n",
    "    acc = 0\n",
    "    tmp_acc = 0\n",
    "    cnt = 0\n",
    "    print(f'\\nepoch : {epoch+1}')\n",
    "    for i, batch in tqdm(enumerate(train_loader),leave=False,total=len(train_loader)):\n",
    "        input_ids = batch['input_ids'].to(device)\n",
    "        attention_mask = batch['attention_mask'].to(device)\n",
    "        #token_type_ids = batch['token_type_ids'].to(device)\n",
    "        labels = batch['labels'].to(device)\n",
    "        outputs = model(input_ids, attention_mask=attention_mask, labels=labels)\n",
    "        logits = outputs.logits\n",
    "        preds = torch.argmax(logits, axis=1)\n",
    "        acc += torch.sum(labels==preds)\n",
    "        tmp_acc += torch.sum(labels==preds)\n",
    "        cnt += torch.sum(preds)\n",
    "        loss = outputs.loss\n",
    "        train_loss += loss.item()\n",
    "        loss.backward()\n",
    "        if i%3000==2999:\n",
    "            print(tmp_acc.item()/ (3000*BATCH_SIZE))\n",
    "            tmp_acc = 0\n",
    "        optimizer.step()\n",
    "        optimizer.zero_grad()\n",
    "    model.save_pretrained(f\"model_infinite_codesage-base/cpp-{epoch}\", from_pt=True)\n",
    "    print(f'train_loss : {train_loss}\\nacc = {acc / len(train_data)}\\ncount = {cnt}')"
   ]
  },
  {
   "cell_type": "code",
   "execution_count": 4,
   "id": "31b24a71",
   "metadata": {},
   "outputs": [],
   "source": [
    "class testDataset(Dataset):\n",
    "    def __init__(self, data, tokenizer, max_len):\n",
    "        self.tokenizer = tokenizer\n",
    "        self.max_len = max_len\n",
    "        self.code1 = data['code1'].to_numpy()\n",
    "        self.code2 = data['code2'].to_numpy()\n",
    "\n",
    "    def __len__(self):\n",
    "        return len(self.code1)\n",
    "\n",
    "    def __getitem__(self, idx):\n",
    "        code1 = self.code1[idx]\n",
    "        code2 = self.code2[idx]\n",
    "        \n",
    "        encoding = self.tokenizer(\n",
    "            code1,\n",
    "            code2,\n",
    "            add_special_tokens=True,\n",
    "            max_length=self.max_len,\n",
    "            truncation=True,\n",
    "            return_tensors=\"pt\",\n",
    "            padding='max_length'\n",
    "        )\n",
    "        \n",
    "\n",
    "        return {'input_ids': encoding['input_ids'][0],\n",
    "                'attention_mask': encoding['attention_mask'][0]}\n"
   ]
  },
  {
   "cell_type": "code",
   "execution_count": 5,
   "id": "dc320ccc",
   "metadata": {},
   "outputs": [],
   "source": [
    "test_data = pd.read_csv('./test.csv')\n",
    "#model_name = 'microsoft/graphcodebert-base'\n",
    "model_name = 'codesage/codesage-small'\n",
    "tokenizer = AutoTokenizer.from_pretrained(model_name, trust_remote_code=True)\n",
    "test_dataset = testDataset(test_data, tokenizer, max_len=1024)\n",
    "\n",
    "test_loader = DataLoader(test_dataset, batch_size=64, shuffle=False, num_workers=4)\n",
    "\n",
    "device = torch.device('cuda' if torch.cuda.is_available() else 'cpu')"
   ]
  },
  {
   "cell_type": "code",
   "execution_count": 6,
   "id": "b0c90000",
   "metadata": {},
   "outputs": [
    {
     "data": {
      "application/vnd.jupyter.widget-view+json": {
       "model_id": "e41c14d9aaec4dac9a0b77376c1fec9e",
       "version_major": 2,
       "version_minor": 0
      },
      "text/plain": [
       "  0%|          | 0/9297 [00:00<?, ?it/s]"
      ]
     },
     "metadata": {},
     "output_type": "display_data"
    }
   ],
   "source": [
    "model = AutoModelForSequenceClassification.from_pretrained(\"model_infinite_codesage/cpp-2\", trust_remote_code=True)\n",
    "model.to(device)\n",
    "model.eval()\n",
    "with torch.no_grad():\n",
    "    test_preds = []\n",
    "    for i, batch in tqdm(enumerate(test_loader),total=len(test_loader)):\n",
    "        input_ids = batch['input_ids'].to(device)\n",
    "        attention_mask = batch['attention_mask'].to(device)\n",
    "        outputs = model(input_ids, attention_mask=attention_mask)\n",
    "        logits = outputs.logits\n",
    "        preds = torch.argmax(logits, axis=1)\n",
    "        test_preds.extend(preds.cpu().numpy())\n",
    "submission = pd.DataFrame({'pair_id': test_data['pair_id'], 'similar': test_preds})\n",
    "submission.to_csv('./submission.csv', index=False)"
   ]
  },
  {
   "cell_type": "code",
   "execution_count": 7,
   "id": "4c208fc1",
   "metadata": {},
   "outputs": [
    {
     "data": {
      "text/plain": [
       "314143"
      ]
     },
     "execution_count": 7,
     "metadata": {},
     "output_type": "execute_result"
    }
   ],
   "source": [
    "sum(pd.read_csv('submission.csv')['similar'])"
   ]
  },
  {
   "cell_type": "code",
   "execution_count": null,
   "id": "f7ef373d",
   "metadata": {},
   "outputs": [],
   "source": []
  }
 ],
 "metadata": {
  "kernelspec": {
   "display_name": "Python 3 (ipykernel)",
   "language": "python",
   "name": "python3"
  },
  "language_info": {
   "codemirror_mode": {
    "name": "ipython",
    "version": 3
   },
   "file_extension": ".py",
   "mimetype": "text/x-python",
   "name": "python",
   "nbconvert_exporter": "python",
   "pygments_lexer": "ipython3",
   "version": "3.11.5"
  }
 },
 "nbformat": 4,
 "nbformat_minor": 5
}
