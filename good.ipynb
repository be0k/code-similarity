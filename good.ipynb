{
 "cells": [
  {
   "cell_type": "code",
   "execution_count": 1,
   "id": "acee7692",
   "metadata": {},
   "outputs": [],
   "source": [
    "import pandas as pd\n",
    "import numpy as np\n",
    "from transformers import AutoTokenizer, AutoModelForSequenceClassification, AutoConfig, get_linear_schedule_with_warmup, DataCollatorWithPadding\n",
    "from torch.utils.data import Dataset, DataLoader\n",
    "import torch\n",
    "from tqdm.notebook import tqdm\n",
    "import random\n",
    "import os"
   ]
  },
  {
   "cell_type": "code",
   "execution_count": 2,
   "id": "fad81517",
   "metadata": {},
   "outputs": [],
   "source": [
    "def seed_all(seed):\n",
    "    random.seed(seed)\n",
    "    os.environ['PYTHONDASHSEED'] = str(seed)\n",
    "    np.random.seed(seed)\n",
    "    torch.manual_seed(seed)\n",
    "    torch.cuda.manual_seed(seed)\n",
    "seed_all(42)"
   ]
  },
  {
   "cell_type": "code",
   "execution_count": 3,
   "id": "31b24a71",
   "metadata": {},
   "outputs": [],
   "source": [
    "class testDataset(Dataset):\n",
    "    def __init__(self, data, tokenizer, max_len):\n",
    "        self.tokenizer = tokenizer\n",
    "        self.max_len = max_len\n",
    "        self.code1 = data['code1'].to_numpy()\n",
    "        self.code2 = data['code2'].to_numpy()\n",
    "\n",
    "    def __len__(self):\n",
    "        return len(self.code1)\n",
    "\n",
    "    def __getitem__(self, idx):\n",
    "        code1 = self.code1[idx]\n",
    "        code2 = self.code2[idx]\n",
    "        \n",
    "        encoding = self.tokenizer(\n",
    "            code1,\n",
    "            code2,\n",
    "            #add_special_tokens=True,\n",
    "            max_length=self.max_len,\n",
    "            truncation=True,\n",
    "            return_tensors=\"pt\",\n",
    "            padding='max_length'\n",
    "        )\n",
    "        \n",
    "\n",
    "        return {'input_ids': encoding['input_ids'][0],\n",
    "                'attention_mask': encoding['attention_mask'][0]}\n"
   ]
  },
  {
   "cell_type": "code",
   "execution_count": 4,
   "id": "dc320ccc",
   "metadata": {},
   "outputs": [],
   "source": [
    "test_data = pd.read_csv('./test_final.csv')\n",
    "model_name = 'codesage/codesage-small'\n",
    "\n",
    "tokenizer = AutoTokenizer.from_pretrained(model_name, trust_remote_code=True)\n",
    "tokenizer.truncation_side = 'left'\n",
    "\n",
    "\n",
    "test_dataset = testDataset(test_data, tokenizer, max_len=1024)\n",
    "\n",
    "test_loader = DataLoader(test_dataset, batch_size=75, shuffle=False, num_workers=4)\n",
    "\n",
    "device = torch.device('cuda' if torch.cuda.is_available() else 'cpu')"
   ]
  },
  {
   "cell_type": "code",
   "execution_count": 5,
   "id": "b0c90000",
   "metadata": {},
   "outputs": [
    {
     "data": {
      "application/vnd.jupyter.widget-view+json": {
       "model_id": "1a6a9152f11f482e8f633148c1979ecf",
       "version_major": 2,
       "version_minor": 0
      },
      "text/plain": [
       "  0%|          | 0/7934 [00:00<?, ?it/s]"
      ]
     },
     "metadata": {},
     "output_type": "display_data"
    }
   ],
   "source": [
    "model = AutoModelForSequenceClassification.from_pretrained('./codesage-submit')\n",
    "model.to(device)\n",
    "model.eval()\n",
    "with torch.no_grad():\n",
    "    test_preds = []\n",
    "    for i, batch in tqdm(enumerate(test_loader),total=len(test_loader)):\n",
    "        input_ids = batch['input_ids'].to(device)\n",
    "        attention_mask = batch['attention_mask'].to(device)\n",
    "        outputs = model(input_ids, attention_mask=attention_mask)\n",
    "        logits = outputs.logits\n",
    "        preds = torch.argmax(logits, axis=1)\n",
    "        test_preds.extend(preds.cpu().numpy())\n",
    "submission = pd.DataFrame({'pair_id': test_data['pair_id'], 'similar': test_preds})\n",
    "submission.to_csv('./submission_sage_f.csv', index=False)"
   ]
  },
  {
   "cell_type": "code",
   "execution_count": 6,
   "id": "4c208fc1",
   "metadata": {},
   "outputs": [
    {
     "data": {
      "text/plain": [
       "292041"
      ]
     },
     "execution_count": 6,
     "metadata": {},
     "output_type": "execute_result"
    }
   ],
   "source": [
    "sum(pd.read_csv('submission.csv')['similar'])"
   ]
  },
  {
   "cell_type": "code",
   "execution_count": 6,
   "id": "f7ef373d",
   "metadata": {},
   "outputs": [
    {
     "data": {
      "text/plain": [
       "292651"
      ]
     },
     "execution_count": 6,
     "metadata": {},
     "output_type": "execute_result"
    }
   ],
   "source": [
    "sum(pd.read_csv('submission_sage_f.csv')['similar'])"
   ]
  },
  {
   "cell_type": "code",
   "execution_count": 6,
   "id": "294266ea-2db5-4ba5-9376-bfe4421d9474",
   "metadata": {},
   "outputs": [
    {
     "data": {
      "text/plain": [
       "292754"
      ]
     },
     "execution_count": 6,
     "metadata": {},
     "output_type": "execute_result"
    }
   ],
   "source": [
    "sum(pd.read_csv('submission_sage_test.csv')['similar'])"
   ]
  }
 ],
 "metadata": {
  "kernelspec": {
   "display_name": "Python 3 (ipykernel)",
   "language": "python",
   "name": "python3"
  },
  "language_info": {
   "codemirror_mode": {
    "name": "ipython",
    "version": 3
   },
   "file_extension": ".py",
   "mimetype": "text/x-python",
   "name": "python",
   "nbconvert_exporter": "python",
   "pygments_lexer": "ipython3",
   "version": "3.11.8"
  }
 },
 "nbformat": 4,
 "nbformat_minor": 5
}
