{
 "cells": [
  {
   "cell_type": "code",
   "execution_count": 64,
   "id": "52dbe4fe",
   "metadata": {},
   "outputs": [],
   "source": [
    "import pandas as pd\n",
    "import numpy as np\n",
    "from transformers import AutoTokenizer, AutoModelForMaskedLM, AutoModelForSequenceClassification\n",
    "from torch.utils.data import Dataset, DataLoader\n",
    "import torch\n",
    "from tqdm.notebook import tqdm\n",
    "import re"
   ]
  },
  {
   "cell_type": "code",
   "execution_count": 1,
   "id": "6ae2042b-8ffc-41de-a42f-a27c8f273ca8",
   "metadata": {},
   "outputs": [
    {
     "name": "stdout",
     "output_type": "stream",
     "text": [
      "Package                   Version\n",
      "------------------------- ------------\n",
      "anyio                     4.2.0\n",
      "argon2-cffi               21.3.0\n",
      "argon2-cffi-bindings      21.2.0\n",
      "asttokens                 2.0.5\n",
      "async-lru                 2.0.4\n",
      "attrs                     23.1.0\n",
      "Babel                     2.11.0\n",
      "beautifulsoup4            4.12.2\n",
      "bleach                    4.1.0\n",
      "Bottleneck                1.3.7\n",
      "Brotli                    1.0.9\n",
      "certifi                   2024.2.2\n",
      "cffi                      1.16.0\n",
      "charset-normalizer        2.0.4\n",
      "comm                      0.2.1\n",
      "debugpy                   1.6.7\n",
      "decorator                 5.1.1\n",
      "defusedxml                0.7.1\n",
      "executing                 0.8.3\n",
      "fastjsonschema            2.16.2\n",
      "filelock                  3.13.1\n",
      "fsspec                    2023.10.0\n",
      "gmpy2                     2.1.2\n",
      "huggingface-hub           0.20.3\n",
      "idna                      3.4\n",
      "importlib-metadata        7.0.1\n",
      "ipykernel                 6.28.0\n",
      "ipython                   8.20.0\n",
      "ipywidgets                8.1.2\n",
      "jedi                      0.18.1\n",
      "Jinja2                    3.1.3\n",
      "joblib                    1.2.0\n",
      "json5                     0.9.6\n",
      "jsonschema                4.19.2\n",
      "jsonschema-specifications 2023.7.1\n",
      "jupyter                   1.0.0\n",
      "jupyter_client            8.6.0\n",
      "jupyter-console           6.6.3\n",
      "jupyter_core              5.5.0\n",
      "jupyter-events            0.8.0\n",
      "jupyter-lsp               2.2.0\n",
      "jupyter_server            2.10.0\n",
      "jupyter_server_terminals  0.4.4\n",
      "jupyterlab                4.0.11\n",
      "jupyterlab-pygments       0.1.2\n",
      "jupyterlab_server         2.25.1\n",
      "jupyterlab-widgets        3.0.10\n",
      "MarkupSafe                2.1.3\n",
      "matplotlib-inline         0.1.6\n",
      "mistune                   2.0.4\n",
      "mkl-fft                   1.3.8\n",
      "mkl-random                1.2.4\n",
      "mkl-service               2.4.0\n",
      "mpmath                    1.3.0\n",
      "nbclient                  0.8.0\n",
      "nbconvert                 7.10.0\n",
      "nbformat                  5.9.2\n",
      "nest-asyncio              1.6.0\n",
      "networkx                  3.1\n",
      "notebook                  7.0.8\n",
      "notebook_shim             0.2.3\n",
      "numexpr                   2.8.7\n",
      "numpy                     1.24.3\n",
      "overrides                 7.4.0\n",
      "packaging                 23.2\n",
      "pandas                    2.2.1\n",
      "pandocfilters             1.5.0\n",
      "parso                     0.8.3\n",
      "pexpect                   4.8.0\n",
      "pillow                    10.2.0\n",
      "pip                       23.3.1\n",
      "platformdirs              3.10.0\n",
      "ply                       3.11\n",
      "prometheus-client         0.14.1\n",
      "prompt-toolkit            3.0.43\n",
      "psutil                    5.9.0\n",
      "ptyprocess                0.7.0\n",
      "pure-eval                 0.2.2\n",
      "pycparser                 2.21\n",
      "Pygments                  2.15.1\n",
      "PyQt5                     5.15.10\n",
      "PyQt5-sip                 12.13.0\n",
      "PySocks                   1.7.1\n",
      "python-dateutil           2.8.2\n",
      "python-json-logger        2.0.7\n",
      "pytz                      2023.3.post1\n",
      "PyYAML                    6.0.1\n",
      "pyzmq                     25.1.2\n",
      "qtconsole                 5.5.1\n",
      "QtPy                      2.4.1\n",
      "referencing               0.30.2\n",
      "regex                     2023.10.3\n",
      "requests                  2.31.0\n",
      "rfc3339-validator         0.1.4\n",
      "rfc3986-validator         0.1.1\n",
      "rpds-py                   0.10.6\n",
      "safetensors               0.4.2\n",
      "scikit-learn              1.3.0\n",
      "scipy                     1.12.0\n",
      "Send2Trash                1.8.2\n",
      "setuptools                68.2.2\n",
      "sip                       6.7.12\n",
      "six                       1.16.0\n",
      "sniffio                   1.3.0\n",
      "soupsieve                 2.5\n",
      "stack-data                0.2.0\n",
      "sympy                     1.12\n",
      "terminado                 0.17.1\n",
      "threadpoolctl             2.2.0\n",
      "tinycss2                  1.2.1\n",
      "tokenizers                0.15.1\n",
      "torch                     2.2.1\n",
      "torchaudio                2.2.1\n",
      "torchvision               0.17.1\n",
      "tornado                   6.3.3\n",
      "tqdm                      4.65.0\n",
      "traitlets                 5.7.1\n",
      "transformers              4.37.2\n",
      "triton                    2.2.0\n",
      "typing_extensions         4.9.0\n",
      "tzdata                    2023.3\n",
      "urllib3                   2.1.0\n",
      "wcwidth                   0.2.5\n",
      "webencodings              0.5.1\n",
      "websocket-client          0.58.0\n",
      "wheel                     0.41.2\n",
      "widgetsnbextension        4.0.10\n",
      "zipp                      3.17.0\n"
     ]
    }
   ],
   "source": [
    "!pip3 list"
   ]
  },
  {
   "cell_type": "code",
   "execution_count": 74,
   "id": "8f55cc46",
   "metadata": {},
   "outputs": [],
   "source": [
    "df1 = pd.read_csv('unix_soft.csv')\n",
    "df2 = pd.read_csv('submission_sage_test.csv')"
   ]
  },
  {
   "cell_type": "code",
   "execution_count": 75,
   "id": "468e3e96-1553-4b66-9ede-dd39e75ecb91",
   "metadata": {},
   "outputs": [
    {
     "data": {
      "text/plain": [
       "292754"
      ]
     },
     "execution_count": 75,
     "metadata": {},
     "output_type": "execute_result"
    }
   ],
   "source": [
    "np.sum(df2['similar'])"
   ]
  },
  {
   "cell_type": "code",
   "execution_count": 76,
   "id": "cf558945",
   "metadata": {},
   "outputs": [
    {
     "data": {
      "text/html": [
       "<div>\n",
       "<style scoped>\n",
       "    .dataframe tbody tr th:only-of-type {\n",
       "        vertical-align: middle;\n",
       "    }\n",
       "\n",
       "    .dataframe tbody tr th {\n",
       "        vertical-align: top;\n",
       "    }\n",
       "\n",
       "    .dataframe thead th {\n",
       "        text-align: right;\n",
       "    }\n",
       "</style>\n",
       "<table border=\"1\" class=\"dataframe\">\n",
       "  <thead>\n",
       "    <tr style=\"text-align: right;\">\n",
       "      <th></th>\n",
       "      <th>pair_id</th>\n",
       "      <th>similar</th>\n",
       "    </tr>\n",
       "  </thead>\n",
       "  <tbody>\n",
       "    <tr>\n",
       "      <th>0</th>\n",
       "      <td>TEST_000000</td>\n",
       "      <td>1</td>\n",
       "    </tr>\n",
       "    <tr>\n",
       "      <th>1</th>\n",
       "      <td>TEST_000001</td>\n",
       "      <td>0</td>\n",
       "    </tr>\n",
       "    <tr>\n",
       "      <th>2</th>\n",
       "      <td>TEST_000002</td>\n",
       "      <td>1</td>\n",
       "    </tr>\n",
       "    <tr>\n",
       "      <th>3</th>\n",
       "      <td>TEST_000003</td>\n",
       "      <td>0</td>\n",
       "    </tr>\n",
       "    <tr>\n",
       "      <th>4</th>\n",
       "      <td>TEST_000004</td>\n",
       "      <td>1</td>\n",
       "    </tr>\n",
       "  </tbody>\n",
       "</table>\n",
       "</div>"
      ],
      "text/plain": [
       "       pair_id  similar\n",
       "0  TEST_000000        1\n",
       "1  TEST_000001        0\n",
       "2  TEST_000002        1\n",
       "3  TEST_000003        0\n",
       "4  TEST_000004        1"
      ]
     },
     "execution_count": 76,
     "metadata": {},
     "output_type": "execute_result"
    }
   ],
   "source": [
    "df1.head()"
   ]
  },
  {
   "cell_type": "code",
   "execution_count": 77,
   "id": "d2bf7c4a",
   "metadata": {},
   "outputs": [],
   "source": [
    "tmp = np.where(df1['similar']+df2['similar']>0,1,0)"
   ]
  },
  {
   "cell_type": "code",
   "execution_count": 78,
   "id": "fe6debc5",
   "metadata": {},
   "outputs": [],
   "source": [
    "df2['similar'] = tmp"
   ]
  },
  {
   "cell_type": "code",
   "execution_count": 79,
   "id": "afb17164",
   "metadata": {},
   "outputs": [],
   "source": [
    "df2.to_csv('submit_last.csv',index=False)"
   ]
  },
  {
   "cell_type": "code",
   "execution_count": 80,
   "id": "1283b68a",
   "metadata": {},
   "outputs": [
    {
     "data": {
      "text/plain": [
       "0         1\n",
       "1         0\n",
       "2         1\n",
       "3         0\n",
       "4         1\n",
       "         ..\n",
       "594995    0\n",
       "594996    0\n",
       "594997    1\n",
       "594998    1\n",
       "594999    0\n",
       "Name: similar, Length: 595000, dtype: int64"
      ]
     },
     "execution_count": 80,
     "metadata": {},
     "output_type": "execute_result"
    }
   ],
   "source": [
    "df2['similar']"
   ]
  },
  {
   "cell_type": "code",
   "execution_count": 81,
   "id": "3213fbee",
   "metadata": {},
   "outputs": [
    {
     "data": {
      "text/plain": [
       "299694"
      ]
     },
     "execution_count": 81,
     "metadata": {},
     "output_type": "execute_result"
    }
   ],
   "source": [
    "sum(tmp)"
   ]
  },
  {
   "cell_type": "code",
   "execution_count": 82,
   "id": "c6f1b051",
   "metadata": {},
   "outputs": [
    {
     "data": {
      "text/html": [
       "<div>\n",
       "<style scoped>\n",
       "    .dataframe tbody tr th:only-of-type {\n",
       "        vertical-align: middle;\n",
       "    }\n",
       "\n",
       "    .dataframe tbody tr th {\n",
       "        vertical-align: top;\n",
       "    }\n",
       "\n",
       "    .dataframe thead th {\n",
       "        text-align: right;\n",
       "    }\n",
       "</style>\n",
       "<table border=\"1\" class=\"dataframe\">\n",
       "  <thead>\n",
       "    <tr style=\"text-align: right;\">\n",
       "      <th></th>\n",
       "      <th>pair_id</th>\n",
       "      <th>similar</th>\n",
       "    </tr>\n",
       "  </thead>\n",
       "  <tbody>\n",
       "    <tr>\n",
       "      <th>0</th>\n",
       "      <td>TEST_000000</td>\n",
       "      <td>1</td>\n",
       "    </tr>\n",
       "    <tr>\n",
       "      <th>1</th>\n",
       "      <td>TEST_000001</td>\n",
       "      <td>0</td>\n",
       "    </tr>\n",
       "    <tr>\n",
       "      <th>2</th>\n",
       "      <td>TEST_000002</td>\n",
       "      <td>1</td>\n",
       "    </tr>\n",
       "    <tr>\n",
       "      <th>3</th>\n",
       "      <td>TEST_000003</td>\n",
       "      <td>0</td>\n",
       "    </tr>\n",
       "    <tr>\n",
       "      <th>4</th>\n",
       "      <td>TEST_000004</td>\n",
       "      <td>1</td>\n",
       "    </tr>\n",
       "  </tbody>\n",
       "</table>\n",
       "</div>"
      ],
      "text/plain": [
       "       pair_id  similar\n",
       "0  TEST_000000        1\n",
       "1  TEST_000001        0\n",
       "2  TEST_000002        1\n",
       "3  TEST_000003        0\n",
       "4  TEST_000004        1"
      ]
     },
     "execution_count": 82,
     "metadata": {},
     "output_type": "execute_result"
    }
   ],
   "source": [
    "df2.head()"
   ]
  },
  {
   "cell_type": "code",
   "execution_count": 83,
   "id": "42070880",
   "metadata": {},
   "outputs": [
    {
     "data": {
      "text/plain": [
       "595000"
      ]
     },
     "execution_count": 83,
     "metadata": {},
     "output_type": "execute_result"
    }
   ],
   "source": [
    "df1 = pd.read_csv('submission_tmp_new_only.csv')\n",
    "df2 = pd.read_csv('submission_tmp_new_sc.csv')\n",
    "sum(df1['similar'] == df2['similar'])"
   ]
  }
 ],
 "metadata": {
  "kernelspec": {
   "display_name": "Python 3 (ipykernel)",
   "language": "python",
   "name": "python3"
  },
  "language_info": {
   "codemirror_mode": {
    "name": "ipython",
    "version": 3
   },
   "file_extension": ".py",
   "mimetype": "text/x-python",
   "name": "python",
   "nbconvert_exporter": "python",
   "pygments_lexer": "ipython3",
   "version": "3.11.8"
  }
 },
 "nbformat": 4,
 "nbformat_minor": 5
}
