{
 "cells": [
  {
   "cell_type": "code",
   "execution_count": 1,
   "id": "acee7692",
   "metadata": {},
   "outputs": [],
   "source": [
    "import pandas as pd\n",
    "import numpy as np\n",
    "from transformers import AutoTokenizer, AutoModelForSequenceClassification, RobertaForSequenceClassification,AutoConfig, get_linear_schedule_with_warmup, DataCollatorWithPadding\n",
    "from torch.utils.data import Dataset, DataLoader\n",
    "import torch\n",
    "from tqdm.notebook import tqdm\n",
    "import random\n",
    "import os"
   ]
  },
  {
   "cell_type": "code",
   "execution_count": 2,
   "id": "fad81517",
   "metadata": {},
   "outputs": [],
   "source": [
    "def seed_all(seed):\n",
    "    random.seed(seed)\n",
    "    os.environ['PYTHONDASHSEED'] = str(seed)\n",
    "    np.random.seed(seed)\n",
    "    torch.manual_seed(seed)\n",
    "    torch.cuda.manual_seed(seed)\n",
    "seed_all(42)"
   ]
  },
  {
   "cell_type": "code",
   "execution_count": 3,
   "id": "31b24a71",
   "metadata": {},
   "outputs": [],
   "source": [
    "class testDataset(Dataset):\n",
    "    def __init__(self, data, tokenizer, max_len):\n",
    "        self.tokenizer = tokenizer\n",
    "        self.max_len = max_len\n",
    "        self.code1 = data['code1'].to_numpy()\n",
    "        self.code2 = data['code2'].to_numpy()\n",
    "\n",
    "    def __len__(self):\n",
    "        return len(self.code1)\n",
    "\n",
    "    def __getitem__(self, idx):\n",
    "        code1 = self.code1[idx]\n",
    "        code2 = self.code2[idx]\n",
    "        \n",
    "        encoding = self.tokenizer(\n",
    "            code1,\n",
    "            code2,\n",
    "            #add_special_tokens=True,\n",
    "            max_length=self.max_len,\n",
    "            truncation=True,\n",
    "            return_tensors=\"pt\",\n",
    "            padding='max_length'\n",
    "        )\n",
    "        \n",
    "\n",
    "        return {'input_ids': encoding['input_ids'][0],\n",
    "                'attention_mask': encoding['attention_mask'][0]}\n"
   ]
  },
  {
   "cell_type": "code",
   "execution_count": 4,
   "id": "dc320ccc",
   "metadata": {},
   "outputs": [],
   "source": [
    "test_data = pd.read_csv('./test_final.csv')\n",
    "#test_data = pd.read_csv('./test_only_ascii_final.csv')\n",
    "model_name = 'Lazyhope/unixcoder-clone-detection'\n",
    "tokenizer = AutoTokenizer.from_pretrained(model_name)\n",
    "tokenizer.truncation_side = 'left'\n",
    "\n",
    "\n",
    "test_dataset = testDataset(test_data, tokenizer, max_len=1024)\n",
    "\n",
    "test_loader = DataLoader(test_dataset, batch_size=64, shuffle=False, num_workers=4)\n",
    "\n",
    "device = torch.device('cuda' if torch.cuda.is_available() else 'cpu')"
   ]
  },
  {
   "cell_type": "code",
   "execution_count": 5,
   "id": "b0c90000",
   "metadata": {},
   "outputs": [
    {
     "data": {
      "application/vnd.jupyter.widget-view+json": {
       "model_id": "b487855427e347e49cd6ea02019a3dfe",
       "version_major": 2,
       "version_minor": 0
      },
      "text/plain": [
       "  0%|          | 0/9297 [00:00<?, ?it/s]"
      ]
     },
     "metadata": {},
     "output_type": "display_data"
    }
   ],
   "source": [
    "model = AutoModelForSequenceClassification.from_pretrained(\"./uni-cpp-4\")\n",
    "model.to(device)\n",
    "model.eval()\n",
    "with torch.no_grad():\n",
    "    test_preds = []\n",
    "    for i, batch in tqdm(enumerate(test_loader),total=len(test_loader)):\n",
    "        input_ids = batch['input_ids'].to(device)\n",
    "        attention_mask = batch['attention_mask'].to(device)\n",
    "        outputs = model(input_ids, attention_mask=attention_mask)\n",
    "        logits = outputs.logits\n",
    "        preds = logits.to('cpu')[:,1]\n",
    "        test_preds.extend(preds.numpy())\n",
    "submission = pd.DataFrame({'pair_id': test_data['pair_id'], 'similar': test_preds})\n",
    "submission.to_csv('./submission_uni_cpp_4_soft.csv', index=False)"
   ]
  },
  {
   "cell_type": "code",
   "execution_count": 15,
   "id": "cfc6b87f-96de-43cc-b83a-782e4218ee24",
   "metadata": {},
   "outputs": [
    {
     "data": {
      "text/plain": [
       "tensor([-4.7924,  4.7726,  4.7775, -4.7914, -4.7924, -4.7937,  4.7748, -4.7920,\n",
       "         4.7747,  4.7787,  2.5560,  4.7778,  4.7780,  4.7734, -4.7930, -4.7933,\n",
       "        -4.7929, -4.7935, -4.7929,  4.7725, -4.7919, -4.7933,  4.7725, -4.7928,\n",
       "        -4.7911, -4.7927, -4.7932, -4.7933, -4.7936, -4.7934, -4.7933, -4.7926,\n",
       "         4.7785,  2.6947,  4.7760,  4.7779,  4.7794, -4.7923,  4.7764,  4.7739,\n",
       "        -4.7936,  4.7740,  4.7723,  4.7735,  4.7757, -4.7932, -4.7917,  4.7781,\n",
       "         4.7752,  4.4972,  4.7720, -4.7920, -4.7915,  3.3205,  2.3059, -4.7926])"
      ]
     },
     "execution_count": 15,
     "metadata": {},
     "output_type": "execute_result"
    }
   ],
   "source": [
    "0 = diff 1 = same"
   ]
  },
  {
   "cell_type": "code",
   "execution_count": 6,
   "id": "4c208fc1",
   "metadata": {},
   "outputs": [
    {
     "data": {
      "text/plain": [
       "293359"
      ]
     },
     "execution_count": 6,
     "metadata": {},
     "output_type": "execute_result"
    }
   ],
   "source": [
    "sum(pd.read_csv('submission.csv')['similar'])"
   ]
  },
  {
   "cell_type": "code",
   "execution_count": 8,
   "id": "f10190bc-2299-4971-8240-64f0b21c1bcc",
   "metadata": {},
   "outputs": [
    {
     "data": {
      "text/plain": [
       "293656"
      ]
     },
     "execution_count": 8,
     "metadata": {},
     "output_type": "execute_result"
    }
   ],
   "source": [
    "sum(pd.read_csv('submission.csv')['similar'])#tmp_new"
   ]
  },
  {
   "cell_type": "code",
   "execution_count": 6,
   "id": "a3f862d4-891d-45ab-970d-32eead6c093e",
   "metadata": {},
   "outputs": [
    {
     "data": {
      "text/plain": [
       "293658"
      ]
     },
     "execution_count": 6,
     "metadata": {},
     "output_type": "execute_result"
    }
   ],
   "source": [
    "sum(pd.read_csv('submission.csv')['similar'])#tmp_new_sc"
   ]
  },
  {
   "cell_type": "code",
   "execution_count": 6,
   "id": "ebf9a965-b143-47f4-8aeb-c18841ef3977",
   "metadata": {},
   "outputs": [
    {
     "data": {
      "text/plain": [
       "293658"
      ]
     },
     "execution_count": 6,
     "metadata": {},
     "output_type": "execute_result"
    }
   ],
   "source": [
    "sum(pd.read_csv('submission.csv')['similar'])#tmp_new_only"
   ]
  },
  {
   "cell_type": "code",
   "execution_count": 6,
   "id": "50461e79-ab5d-40bc-ac4a-9cf5decc4014",
   "metadata": {},
   "outputs": [
    {
     "data": {
      "text/plain": [
       "292533"
      ]
     },
     "execution_count": 6,
     "metadata": {},
     "output_type": "execute_result"
    }
   ],
   "source": [
    "sum(pd.read_csv('submission.csv')['similar'])#pure"
   ]
  },
  {
   "cell_type": "code",
   "execution_count": 7,
   "id": "0cfe1abb-1cc8-4c57-85d5-e89ff41ca5b4",
   "metadata": {},
   "outputs": [
    {
     "data": {
      "text/plain": [
       "585066"
      ]
     },
     "execution_count": 7,
     "metadata": {},
     "output_type": "execute_result"
    }
   ],
   "source": [
    "292533*2"
   ]
  },
  {
   "cell_type": "code",
   "execution_count": 7,
   "id": "a251cba1-f60f-45ff-989d-64c993f88973",
   "metadata": {},
   "outputs": [
    {
     "data": {
      "text/plain": [
       "293514"
      ]
     },
     "execution_count": 7,
     "metadata": {},
     "output_type": "execute_result"
    }
   ],
   "source": [
    "sum(pd.read_csv('submission.csv')['similar'])#new_set"
   ]
  },
  {
   "cell_type": "code",
   "execution_count": 6,
   "id": "47ddd5de-3e02-449c-b799-360548ed394e",
   "metadata": {},
   "outputs": [
    {
     "data": {
      "text/plain": [
       "293369"
      ]
     },
     "execution_count": 6,
     "metadata": {},
     "output_type": "execute_result"
    }
   ],
   "source": [
    "sum(pd.read_csv('submission_uni_cpp_3.csv')['similar'])#new_set"
   ]
  },
  {
   "cell_type": "code",
   "execution_count": 6,
   "id": "72929c67-342d-49dc-893a-eaa7e7fa157e",
   "metadata": {},
   "outputs": [
    {
     "data": {
      "text/plain": [
       "294227"
      ]
     },
     "execution_count": 6,
     "metadata": {},
     "output_type": "execute_result"
    }
   ],
   "source": [
    "sum(pd.read_csv('submission_uni_cpp_4.csv')['similar'])#new_set"
   ]
  }
 ],
 "metadata": {
  "kernelspec": {
   "display_name": "Python 3 (ipykernel)",
   "language": "python",
   "name": "python3"
  },
  "language_info": {
   "codemirror_mode": {
    "name": "ipython",
    "version": 3
   },
   "file_extension": ".py",
   "mimetype": "text/x-python",
   "name": "python",
   "nbconvert_exporter": "python",
   "pygments_lexer": "ipython3",
   "version": "3.11.8"
  }
 },
 "nbformat": 4,
 "nbformat_minor": 5
}
